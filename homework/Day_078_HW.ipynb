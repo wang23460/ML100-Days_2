{
 "cells": [
  {
   "cell_type": "markdown",
   "metadata": {},
   "source": [
    "## Work\n",
    "1. 請嘗試將 preproc_x 替換成以每筆資料的 min/max 進行標準化至 -1 ~ 1 間，再進行訓練\n",
    "2. 請嘗試將 mlp 疊更深 (e.g 5~10 層)，進行訓練後觀察 learning curve 的走勢\n",
    "3. (optional) 請改用 GPU 進行訓練 (如果你有 GPU 的話)，比較使用 CPU 與 GPU 的訓練速度"
   ]
  },
  {
   "cell_type": "code",
   "execution_count": 3,
   "metadata": {},
   "outputs": [
    {
     "name": "stderr",
     "output_type": "stream",
     "text": [
      "'nvidia-smi' 不是內部或外部命令、可執行的程式或批次檔。\n"
     ]
    }
   ],
   "source": [
    "## \n",
    "\"\"\"\n",
    "Your code here (optional)\n",
    "確認硬體資源\n",
    "\"\"\"\n",
    "!nvidia-smi"
   ]
  },
  {
   "cell_type": "code",
   "execution_count": 5,
   "metadata": {},
   "outputs": [
    {
     "name": "stderr",
     "output_type": "stream",
     "text": [
      "Using TensorFlow backend.\n"
     ]
    }
   ],
   "source": [
    "import os\n",
    "import keras\n",
    "\n",
    "# 請嘗試設定 GPU：os.environ\n",
    "os.environ[\"CUDA_VISIBLE_DEVICES\"] = '0'"
   ]
  },
  {
   "cell_type": "code",
   "execution_count": 6,
   "metadata": {},
   "outputs": [],
   "source": [
    "train, test = keras.datasets.cifar10.load_data()"
   ]
  },
  {
   "cell_type": "code",
   "execution_count": 7,
   "metadata": {},
   "outputs": [],
   "source": [
    "import numpy as np\n",
    "## 資料前處理\n",
    "\"\"\"\n",
    "Your code here\n",
    "\"\"\"\n",
    "def preproc_x(x, flatten=True):\n",
    "    (x-np.mean(x))/np.std(x)\n",
    "    if flatten:\n",
    "        x = x.reshape((len(x), -1))\n",
    "    return x\n",
    "\n",
    "def preproc_y(y, num_classes=10):\n",
    "    if y.shape[-1] == 1:\n",
    "        y = keras.utils.to_categorical(y, num_classes) \n",
    "    return y"
   ]
  },
  {
   "cell_type": "code",
   "execution_count": 8,
   "metadata": {},
   "outputs": [],
   "source": [
    "x_train, y_train = train\n",
    "x_test, y_test = test\n",
    "\n",
    "# Preproc the inputs\n",
    "x_train = preproc_x(x_train)\n",
    "x_test = preproc_x(x_test)\n",
    "\n",
    "# Preprc the outputs\n",
    "y_train = preproc_y(y_train)\n",
    "y_test = preproc_y(y_test)"
   ]
  },
  {
   "cell_type": "code",
   "execution_count": 9,
   "metadata": {},
   "outputs": [
    {
     "name": "stdout",
     "output_type": "stream",
     "text": [
      "WARNING:tensorflow:From C:\\Users\\user\\Anaconda3\\lib\\site-packages\\tensorflow\\python\\framework\\op_def_library.py:263: colocate_with (from tensorflow.python.framework.ops) is deprecated and will be removed in a future version.\n",
      "Instructions for updating:\n",
      "Colocations handled automatically by placer.\n",
      "_________________________________________________________________\n",
      "Layer (type)                 Output Shape              Param #   \n",
      "=================================================================\n",
      "input_1 (InputLayer)         (None, 3072)              0         \n",
      "_________________________________________________________________\n",
      "hidden_layer1 (Dense)        (None, 512)               1573376   \n",
      "_________________________________________________________________\n",
      "hidden_layer2 (Dense)        (None, 256)               131328    \n",
      "_________________________________________________________________\n",
      "hidden_layer3 (Dense)        (None, 128)               32896     \n",
      "_________________________________________________________________\n",
      "hidden_layer4 (Dense)        (None, 64)                8256      \n",
      "_________________________________________________________________\n",
      "hidden_layer5 (Dense)        (None, 32)                2080      \n",
      "_________________________________________________________________\n",
      "hidden_layer6 (Dense)        (None, 16)                528       \n",
      "_________________________________________________________________\n",
      "output (Dense)               (None, 10)                170       \n",
      "=================================================================\n",
      "Total params: 1,748,634\n",
      "Trainable params: 1,748,634\n",
      "Non-trainable params: 0\n",
      "_________________________________________________________________\n"
     ]
    }
   ],
   "source": [
    "\"\"\"Code Here\n",
    "建立你的神經網路\n",
    "\"\"\"\n",
    "def build_mlp(input_shape, output_units=10, num_neurons=[512, 256, 128,64,32,16]):\n",
    "    input_layer = keras.layers.Input(input_shape)\n",
    "    \n",
    "    for i, n_units in enumerate(num_neurons):\n",
    "        if i == 0:\n",
    "            x = keras.layers.Dense(units=n_units, activation=\"relu\", name=\"hidden_layer\"+str(i+1))(input_layer)\n",
    "        else:\n",
    "            x = keras.layers.Dense(units=n_units, activation=\"relu\", name=\"hidden_layer\"+str(i+1))(x)\n",
    "    \n",
    "    out = keras.layers.Dense(units=output_units, activation=\"softmax\", name=\"output\")(x)\n",
    "    \n",
    "    model = keras.models.Model(inputs=[input_layer], outputs=[out])\n",
    "    return model\n",
    "model = build_mlp(input_shape=x_train.shape[1:])\n",
    "model.summary()"
   ]
  },
  {
   "cell_type": "code",
   "execution_count": 10,
   "metadata": {},
   "outputs": [],
   "source": [
    "from keras.callbacks import ReduceLROnPlateau\n",
    "\n",
    "LR_function=ReduceLROnPlateau(monitor='val_acc',\n",
    "                             patience=3,\n",
    "                             verbose=1,\n",
    "                             factor=0.5,\n",
    "                             min_lr=0.00001)\n",
    "\n",
    "## 超參數設定\n",
    "LEARNING_RATE = 0.00001\n",
    "EPOCHS = 100\n",
    "BATCH_SIZE = 256"
   ]
  },
  {
   "cell_type": "code",
   "execution_count": 11,
   "metadata": {},
   "outputs": [],
   "source": [
    "optimizer = keras.optimizers.Adam(lr=LEARNING_RATE)\n",
    "model.compile(loss=\"categorical_crossentropy\", metrics=[\"accuracy\"], optimizer=optimizer)"
   ]
  },
  {
   "cell_type": "code",
   "execution_count": 12,
   "metadata": {},
   "outputs": [
    {
     "name": "stdout",
     "output_type": "stream",
     "text": [
      "WARNING:tensorflow:From C:\\Users\\user\\Anaconda3\\lib\\site-packages\\tensorflow\\python\\ops\\math_ops.py:3066: to_int32 (from tensorflow.python.ops.math_ops) is deprecated and will be removed in a future version.\n",
      "Instructions for updating:\n",
      "Use tf.cast instead.\n",
      "Train on 50000 samples, validate on 10000 samples\n",
      "Epoch 1/50\n",
      "50000/50000 [==============================] - 12s 241us/step - loss: 5.3471 - acc: 0.1169 - val_loss: 2.4179 - val_acc: 0.1152\n",
      "Epoch 2/50\n",
      "50000/50000 [==============================] - 12s 242us/step - loss: 2.3587 - acc: 0.1095 - val_loss: 2.3278 - val_acc: 0.1060\n",
      "Epoch 3/50\n",
      "50000/50000 [==============================] - 13s 269us/step - loss: 2.3172 - acc: 0.1069 - val_loss: 2.3140 - val_acc: 0.1036\n",
      "Epoch 4/50\n",
      "50000/50000 [==============================] - 14s 281us/step - loss: 2.3055 - acc: 0.1067 - val_loss: 2.3082 - val_acc: 0.1043\n",
      "Epoch 5/50\n",
      "50000/50000 [==============================] - 13s 265us/step - loss: 2.2978 - acc: 0.1086 - val_loss: 2.3046 - val_acc: 0.1085\n",
      "Epoch 6/50\n",
      "50000/50000 [==============================] - 14s 272us/step - loss: 2.2921 - acc: 0.1114 - val_loss: 2.3018 - val_acc: 0.1089\n",
      "Epoch 7/50\n",
      "50000/50000 [==============================] - 12s 245us/step - loss: 2.2848 - acc: 0.1131 - val_loss: 2.2997 - val_acc: 0.1139\n",
      "Epoch 8/50\n",
      "50000/50000 [==============================] - 13s 252us/step - loss: 2.2798 - acc: 0.1148 - val_loss: 2.3060 - val_acc: 0.1253\n",
      "Epoch 9/50\n",
      "50000/50000 [==============================] - 12s 249us/step - loss: 2.2734 - acc: 0.1213 - val_loss: 2.2937 - val_acc: 0.1251\n",
      "Epoch 10/50\n",
      "50000/50000 [==============================] - 12s 242us/step - loss: 2.2650 - acc: 0.1293 - val_loss: 2.2942 - val_acc: 0.1341\n",
      "Epoch 11/50\n",
      "50000/50000 [==============================] - 13s 264us/step - loss: 2.2565 - acc: 0.1322 - val_loss: 2.2863 - val_acc: 0.1250\n",
      "Epoch 12/50\n",
      "50000/50000 [==============================] - 13s 257us/step - loss: 2.2477 - acc: 0.1393 - val_loss: 2.2856 - val_acc: 0.1301\n",
      "Epoch 13/50\n",
      "50000/50000 [==============================] - 12s 249us/step - loss: 2.2388 - acc: 0.1451 - val_loss: 2.2999 - val_acc: 0.1374\n",
      "Epoch 14/50\n",
      "50000/50000 [==============================] - 13s 257us/step - loss: 2.2307 - acc: 0.1483 - val_loss: 2.2673 - val_acc: 0.1413\n",
      "Epoch 15/50\n",
      "50000/50000 [==============================] - 13s 260us/step - loss: 2.2229 - acc: 0.1520 - val_loss: 2.2653 - val_acc: 0.1512\n",
      "Epoch 16/50\n",
      "50000/50000 [==============================] - 12s 246us/step - loss: 2.2075 - acc: 0.1596 - val_loss: 2.2611 - val_acc: 0.1509\n",
      "Epoch 17/50\n",
      "50000/50000 [==============================] - 11s 219us/step - loss: 2.1996 - acc: 0.1646 - val_loss: 2.2633 - val_acc: 0.1694\n",
      "Epoch 18/50\n",
      "50000/50000 [==============================] - 12s 231us/step - loss: 2.1888 - acc: 0.1671 - val_loss: 2.2499 - val_acc: 0.1628\n",
      "Epoch 19/50\n",
      "50000/50000 [==============================] - 11s 227us/step - loss: 2.1802 - acc: 0.1718 - val_loss: 2.2460 - val_acc: 0.1544\n",
      "Epoch 20/50\n",
      "50000/50000 [==============================] - 12s 230us/step - loss: 2.1700 - acc: 0.1769 - val_loss: 2.2360 - val_acc: 0.1634\n",
      "Epoch 21/50\n",
      "50000/50000 [==============================] - 11s 225us/step - loss: 2.1570 - acc: 0.1841 - val_loss: 2.2308 - val_acc: 0.1693\n",
      "Epoch 22/50\n",
      "50000/50000 [==============================] - 12s 231us/step - loss: 2.1494 - acc: 0.1843 - val_loss: 2.2243 - val_acc: 0.1672\n",
      "Epoch 23/50\n",
      "50000/50000 [==============================] - 11s 230us/step - loss: 2.1361 - acc: 0.1919 - val_loss: 2.2358 - val_acc: 0.1747\n",
      "Epoch 24/50\n",
      "50000/50000 [==============================] - 11s 226us/step - loss: 2.1305 - acc: 0.1946 - val_loss: 2.2141 - val_acc: 0.1805\n",
      "Epoch 25/50\n",
      "50000/50000 [==============================] - 11s 227us/step - loss: 2.1183 - acc: 0.1978 - val_loss: 2.2183 - val_acc: 0.1756\n",
      "Epoch 26/50\n",
      "50000/50000 [==============================] - 11s 227us/step - loss: 2.1082 - acc: 0.2007 - val_loss: 2.2079 - val_acc: 0.1854\n",
      "Epoch 27/50\n",
      "50000/50000 [==============================] - 11s 227us/step - loss: 2.0991 - acc: 0.2042 - val_loss: 2.2018 - val_acc: 0.1773\n",
      "Epoch 28/50\n",
      "50000/50000 [==============================] - 12s 235us/step - loss: 2.0917 - acc: 0.2071 - val_loss: 2.2140 - val_acc: 0.2062\n",
      "Epoch 29/50\n",
      "50000/50000 [==============================] - 11s 226us/step - loss: 2.0798 - acc: 0.2109 - val_loss: 2.2003 - val_acc: 0.1982\n",
      "Epoch 30/50\n",
      "50000/50000 [==============================] - 11s 227us/step - loss: 2.0725 - acc: 0.2162 - val_loss: 2.1956 - val_acc: 0.2042\n",
      "Epoch 31/50\n",
      "50000/50000 [==============================] - 11s 226us/step - loss: 2.0574 - acc: 0.2188 - val_loss: 2.1768 - val_acc: 0.1991\n",
      "Epoch 32/50\n",
      "50000/50000 [==============================] - 12s 232us/step - loss: 2.0471 - acc: 0.2213 - val_loss: 2.1749 - val_acc: 0.1960\n",
      "Epoch 33/50\n",
      "50000/50000 [==============================] - 11s 227us/step - loss: 2.0360 - acc: 0.2276 - val_loss: 2.1840 - val_acc: 0.2063\n",
      "Epoch 34/50\n",
      "50000/50000 [==============================] - 11s 226us/step - loss: 2.0302 - acc: 0.2294 - val_loss: 2.1693 - val_acc: 0.1962\n",
      "Epoch 35/50\n",
      "50000/50000 [==============================] - 11s 229us/step - loss: 2.0219 - acc: 0.2337 - val_loss: 2.1879 - val_acc: 0.2226\n",
      "Epoch 36/50\n",
      "50000/50000 [==============================] - 12s 237us/step - loss: 2.0097 - acc: 0.2366 - val_loss: 2.1610 - val_acc: 0.2100\n",
      "Epoch 37/50\n",
      "50000/50000 [==============================] - 11s 226us/step - loss: 2.0016 - acc: 0.2423 - val_loss: 2.1484 - val_acc: 0.2182\n",
      "Epoch 38/50\n",
      "50000/50000 [==============================] - 11s 225us/step - loss: 1.9888 - acc: 0.2479 - val_loss: 2.1568 - val_acc: 0.2198\n",
      "Epoch 39/50\n",
      "50000/50000 [==============================] - 11s 227us/step - loss: 1.9821 - acc: 0.2543 - val_loss: 2.1479 - val_acc: 0.2293\n",
      "Epoch 40/50\n",
      "50000/50000 [==============================] - 11s 226us/step - loss: 1.9692 - acc: 0.2595 - val_loss: 2.1523 - val_acc: 0.2435\n",
      "Epoch 41/50\n",
      "50000/50000 [==============================] - 11s 227us/step - loss: 1.9664 - acc: 0.2678 - val_loss: 2.1364 - val_acc: 0.2505\n",
      "Epoch 42/50\n",
      "50000/50000 [==============================] - 11s 223us/step - loss: 1.9545 - acc: 0.2774 - val_loss: 2.1499 - val_acc: 0.2587\n",
      "Epoch 43/50\n",
      "50000/50000 [==============================] - 11s 226us/step - loss: 1.9513 - acc: 0.2809 - val_loss: 2.1429 - val_acc: 0.2623\n",
      "Epoch 44/50\n",
      "50000/50000 [==============================] - 11s 226us/step - loss: 1.9376 - acc: 0.2853 - val_loss: 2.1251 - val_acc: 0.2646\n",
      "Epoch 45/50\n",
      "50000/50000 [==============================] - 11s 224us/step - loss: 1.9316 - acc: 0.2893 - val_loss: 2.1240 - val_acc: 0.2680\n",
      "Epoch 46/50\n",
      "50000/50000 [==============================] - 11s 225us/step - loss: 1.9204 - acc: 0.2991 - val_loss: 2.1256 - val_acc: 0.2742\n",
      "Epoch 47/50\n",
      "50000/50000 [==============================] - 11s 226us/step - loss: 1.9068 - acc: 0.2995 - val_loss: 2.1247 - val_acc: 0.2761\n",
      "Epoch 48/50\n",
      "50000/50000 [==============================] - 11s 223us/step - loss: 1.9007 - acc: 0.3015 - val_loss: 2.1195 - val_acc: 0.2607\n",
      "Epoch 49/50\n",
      "50000/50000 [==============================] - 11s 224us/step - loss: 1.8875 - acc: 0.3070 - val_loss: 2.1070 - val_acc: 0.2672\n",
      "Epoch 50/50\n",
      "50000/50000 [==============================] - 11s 227us/step - loss: 1.8825 - acc: 0.3064 - val_loss: 2.1139 - val_acc: 0.2795\n"
     ]
    },
    {
     "data": {
      "text/plain": [
       "<keras.callbacks.History at 0x2421455d128>"
      ]
     },
     "execution_count": 12,
     "metadata": {},
     "output_type": "execute_result"
    }
   ],
   "source": [
    "model.fit(x_train, y_train, \n",
    "          epochs=50, \n",
    "          batch_size=BATCH_SIZE, \n",
    "          validation_data=(x_test, y_test), \n",
    "          shuffle=True)"
   ]
  },
  {
   "cell_type": "code",
   "execution_count": 14,
   "metadata": {},
   "outputs": [
    {
     "data": {
      "image/png": "[encoded data removed]",
      "text/plain": [
       "<Figure size 432x288 with 1 Axes>"
      ]
     },
     "metadata": {
      "needs_background": "light"
     },
     "output_type": "display_data"
    },
    {
     "data": {
      "image/png": "[encoded data removed]",
      "text/plain": [
       "<Figure size 432x288 with 1 Axes>"
      ]
     },
     "metadata": {
      "needs_background": "light"
     },
     "output_type": "display_data"
    }
   ],
   "source": [
    "import matplotlib.pyplot as plt\n",
    "%matplotlib inline\n",
    "\n",
    "train_loss = model.history.history[\"loss\"]\n",
    "valid_loss = model.history.history[\"val_loss\"]\n",
    "\n",
    "train_acc = model.history.history[\"acc\"]\n",
    "valid_acc = model.history.history[\"val_acc\"]\n",
    "\n",
    "plt.plot(range(len(train_loss)), train_loss, label=\"train loss\")\n",
    "plt.plot(range(len(valid_loss)), valid_loss, label=\"valid loss\")\n",
    "plt.legend()\n",
    "plt.title(\"Loss\")\n",
    "plt.show()\n",
    "\n",
    "plt.plot(range(len(train_acc)), train_acc, label=\"train accuracy\")\n",
    "plt.plot(range(len(valid_acc)), valid_acc, label=\"valid accuracy\")\n",
    "plt.legend()\n",
    "plt.title(\"Accuracy\")\n",
    "plt.show()"
   ]
  }
 ],
 "metadata": {
  "kernelspec": {
   "display_name": "Python 3",
   "language": "python",
   "name": "python3"
  },
  "language_info": {
   "codemirror_mode": {
    "name": "ipython",
    "version": 3
   },
   "file_extension": ".py",
   "mimetype": "text/x-python",
   "name": "python",
   "nbconvert_exporter": "python",
   "pygments_lexer": "ipython3",
   "version": "3.7.3"
  }
 },
 "nbformat": 4,
 "nbformat_minor": 2
}
