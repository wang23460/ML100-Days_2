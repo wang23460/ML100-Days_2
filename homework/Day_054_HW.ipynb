{
 "cells": [
  {
   "cell_type": "markdown",
   "metadata": {},
   "source": [
    "## **非監督式算法**\n",
    "- 聚類分析 : 尋找資料的隱藏模式\n",
    "- 降低維度 : 特徵數太⼤大且特徵間相關性⾼高，以此⽅方式縮減特徵維度\n",
    "- 其他 : 關聯聯法則 (購物籃分析)、異異常值偵測、探索性資料分析等"
   ]
  },
  {
   "cell_type": "markdown",
   "metadata": {},
   "source": [
    "# 作業\n",
    "* 試著想想看, 非監督學習是否有可能使用評價函數 (Metric) 來鑑別好壞呢?  \n",
    "(Hint : 可以分為 \"有目標值\" 與 \"無目標值\" 兩個方向思考)"
   ]
  },
  {
   "cell_type": "markdown",
   "metadata": {},
   "source": [
    "Ans : \n",
    "- 有目標值的情況下可以用評價函數來評估好壞\n",
    "- 無目標值下依照分群結果並依真實情況判斷"
   ]
  }
 ],
 "metadata": {
  "kernelspec": {
   "display_name": "Python 3",
   "language": "python",
   "name": "python3"
  },
  "language_info": {
   "codemirror_mode": {
    "name": "ipython",
    "version": 3
   },
   "file_extension": ".py",
   "mimetype": "text/x-python",
   "name": "python",
   "nbconvert_exporter": "python",
   "pygments_lexer": "ipython3",
   "version": "3.7.0"
  }
 },
 "nbformat": 4,
 "nbformat_minor": 2
}
