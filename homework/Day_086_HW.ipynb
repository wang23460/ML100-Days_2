{
  "nbformat": 4,
  "nbformat_minor": 0,
  "metadata": {
    "kernelspec": {
      "name": "python3",
      "display_name": "Python 3"
    },
    "language_info": {
      "codemirror_mode": {
        "name": "ipython",
        "version": 3
      },
      "file_extension": ".py",
      "mimetype": "text/x-python",
      "name": "python",
      "nbconvert_exporter": "python",
      "pygments_lexer": "ipython3",
      "version": "3.7.3"
    },
    "colab": {
      "name": "Day_086_HW.ipynb",
      "provenance": []
    },
    "accelerator": "GPU"
  },
  "cells": [
    {
      "cell_type": "markdown",
      "metadata": {
        "id": "BixJmW08uxFh",
        "colab_type": "text"
      },
      "source": [
        "## Work\n",
        "1. 試比較 save_best_only 與否的差異\n",
        "2. 請僅存入將 save_weights_only 設定為 True, 並嘗試 reset ipynb 並將模型與權重重新建回並預測 x_test"
      ]
    },
    {
      "cell_type": "code",
      "metadata": {
        "id": "PruqHpQluxFk",
        "colab_type": "code",
        "colab": {
          "base_uri": "https://localhost:8080/",
          "height": 81
        },
        "outputId": "7c45b198-5f97-4915-e1d5-2cc567d11cc9"
      },
      "source": [
        "import os\n",
        "import keras\n",
        "import warnings\n",
        "warnings.filterwarnings('ignore')\n",
        "# Disable GPU\n",
        "os.environ[\"CUDA_VISIBLE_DEVICES\"] = \"\""
      ],
      "execution_count": 1,
      "outputs": [
        {
          "output_type": "stream",
          "text": [
            "Using TensorFlow backend.\n"
          ],
          "name": "stderr"
        },
        {
          "output_type": "display_data",
          "data": {
            "text/html": [
              "<p style=\"color: red;\">\n",
              "The default version of TensorFlow in Colab will soon switch to TensorFlow 2.x.<br>\n",
              "We recommend you <a href=\"https://www.tensorflow.org/guide/migrate\" target=\"_blank\">upgrade</a> now \n",
              "or ensure your notebook will continue to use TensorFlow 1.x via the <code>%tensorflow_version 1.x</code> magic:\n",
              "<a href=\"https://colab.research.google.com/notebooks/tensorflow_version.ipynb\" target=\"_blank\">more info</a>.</p>\n"
            ],
            "text/plain": [
              "<IPython.core.display.HTML object>"
            ]
          },
          "metadata": {
            "tags": []
          }
        }
      ]
    },
    {
      "cell_type": "code",
      "metadata": {
        "id": "n5QgNd-RuxFn",
        "colab_type": "code",
        "colab": {
          "base_uri": "https://localhost:8080/",
          "height": 52
        },
        "outputId": "d603e700-e8df-4e01-dda2-ea5a015033b4"
      },
      "source": [
        "train, test = keras.datasets.cifar10.load_data()"
      ],
      "execution_count": 2,
      "outputs": [
        {
          "output_type": "stream",
          "text": [
            "Downloading data from https://www.cs.toronto.edu/~kriz/cifar-10-python.tar.gz\n",
            "170500096/170498071 [==============================] - 6s 0us/step\n"
          ],
          "name": "stdout"
        }
      ]
    },
    {
      "cell_type": "code",
      "metadata": {
        "id": "nN9CvwF2uxFs",
        "colab_type": "code",
        "colab": {}
      },
      "source": [
        "## 資料前處理\n",
        "def preproc_x(x, flatten=True):\n",
        "    x = x / 255.\n",
        "    if flatten:\n",
        "        x = x.reshape((len(x), -1))\n",
        "    return x\n",
        "\n",
        "def preproc_y(y, num_classes=10):\n",
        "    if y.shape[-1] == 1:\n",
        "        y = keras.utils.to_categorical(y, num_classes)\n",
        "    return y"
      ],
      "execution_count": 0,
      "outputs": []
    },
    {
      "cell_type": "code",
      "metadata": {
        "id": "NuXRT8MjuxFu",
        "colab_type": "code",
        "colab": {}
      },
      "source": [
        "x_train, y_train = train\n",
        "x_test, y_test = test\n",
        "\n",
        "# Preproc the inputs\n",
        "x_train = preproc_x(x_train)\n",
        "x_test = preproc_x(x_test)\n",
        "\n",
        "# Preprc the outputs\n",
        "y_train = preproc_y(y_train)\n",
        "y_test = preproc_y(y_test)"
      ],
      "execution_count": 0,
      "outputs": []
    },
    {
      "cell_type": "code",
      "metadata": {
        "id": "XA55D-35uxFx",
        "colab_type": "code",
        "colab": {}
      },
      "source": [
        "from keras.layers import BatchNormalization\n",
        "\n",
        "\"\"\"\n",
        "建立神經網路，並加入 BN layer\n",
        "\"\"\"\n",
        "def build_mlp(input_shape, output_units=10, num_neurons=[512, 256, 128]):\n",
        "    input_layer = keras.layers.Input(input_shape)\n",
        "    \n",
        "    for i, n_units in enumerate(num_neurons):\n",
        "        if i == 0:\n",
        "            x = keras.layers.Dense(units=n_units, \n",
        "                                   activation=\"relu\", \n",
        "                                   name=\"hidden_layer\"+str(i+1))(input_layer)\n",
        "            x = BatchNormalization()(x)\n",
        "        else:\n",
        "            x = keras.layers.Dense(units=n_units, \n",
        "                                   activation=\"relu\", \n",
        "                                   name=\"hidden_layer\"+str(i+1))(x)\n",
        "            x = BatchNormalization()(x)\n",
        "    \n",
        "    out = keras.layers.Dense(units=output_units, activation=\"softmax\", name=\"output\")(x)\n",
        "    \n",
        "    model = keras.models.Model(inputs=[input_layer], outputs=[out])\n",
        "    return model"
      ],
      "execution_count": 0,
      "outputs": []
    },
    {
      "cell_type": "code",
      "metadata": {
        "id": "aXHy1_veuxF0",
        "colab_type": "code",
        "colab": {}
      },
      "source": [
        "## 超參數設定\n",
        "LEARNING_RATE = 1e-3\n",
        "EPOCHS = 50\n",
        "BATCH_SIZE = 1024\n",
        "MOMENTUM = 0.95"
      ],
      "execution_count": 0,
      "outputs": []
    },
    {
      "cell_type": "code",
      "metadata": {
        "id": "qgESGKGzuxF3",
        "colab_type": "code",
        "colab": {
          "base_uri": "https://localhost:8080/",
          "height": 1000
        },
        "outputId": "9cd20b98-19fb-4cae-8326-d7a6f15e4c64"
      },
      "source": [
        "# 載入 Callbacks\n",
        "\"\"\"Code Here\n",
        "設定 callbacks: model checkpoint\n",
        "\"\"\"\n",
        "from keras.callbacks import ModelCheckpoint\n",
        "\n",
        "model_ckpt = ModelCheckpoint(filepath=\"./tmp.h5\", \n",
        "                             monitor=\"val_loss\", \n",
        "                             save_best_only=False)\n",
        "\n",
        "results = {}\n",
        "\"\"\"Code Here\n",
        "撰寫你的訓練流程並將結果用 dictionary 紀錄\n",
        "\"\"\"\n",
        "model = build_mlp(input_shape=x_train.shape[1:])\n",
        "model.summary()\n",
        "optimizer = keras.optimizers.SGD(lr=LEARNING_RATE, nesterov=True, momentum=MOMENTUM)\n",
        "model.compile(loss=\"categorical_crossentropy\", metrics=[\"accuracy\"], optimizer=optimizer)\n",
        "\n",
        "model.fit(x_train, y_train, \n",
        "          epochs=EPOCHS, \n",
        "          batch_size=BATCH_SIZE, \n",
        "          validation_data=(x_test, y_test), \n",
        "          shuffle=True,\n",
        "          callbacks=[model_ckpt]\n",
        "         )\n",
        "\n",
        "# Collect results\n",
        "train_loss = model.history.history[\"loss\"]\n",
        "valid_loss = model.history.history[\"val_loss\"]\n",
        "train_acc = model.history.history[\"acc\"]\n",
        "valid_acc = model.history.history[\"val_acc\"]\n",
        "\n",
        "# Load back\n",
        "model = keras.models.load_model(\"./tmp.h5\")\n",
        "loss_loadback, acc_loadback = model.evaluate(x_test, y_test)"
      ],
      "execution_count": 13,
      "outputs": [
        {
          "output_type": "stream",
          "text": [
            "Model: \"model_3\"\n",
            "_________________________________________________________________\n",
            "Layer (type)                 Output Shape              Param #   \n",
            "=================================================================\n",
            "input_3 (InputLayer)         (None, 3072)              0         \n",
            "_________________________________________________________________\n",
            "hidden_layer1 (Dense)        (None, 512)               1573376   \n",
            "_________________________________________________________________\n",
            "batch_normalization_7 (Batch (None, 512)               2048      \n",
            "_________________________________________________________________\n",
            "hidden_layer2 (Dense)        (None, 256)               131328    \n",
            "_________________________________________________________________\n",
            "batch_normalization_8 (Batch (None, 256)               1024      \n",
            "_________________________________________________________________\n",
            "hidden_layer3 (Dense)        (None, 128)               32896     \n",
            "_________________________________________________________________\n",
            "batch_normalization_9 (Batch (None, 128)               512       \n",
            "_________________________________________________________________\n",
            "output (Dense)               (None, 10)                1290      \n",
            "=================================================================\n",
            "Total params: 1,742,474\n",
            "Trainable params: 1,740,682\n",
            "Non-trainable params: 1,792\n",
            "_________________________________________________________________\n",
            "Train on 50000 samples, validate on 10000 samples\n",
            "Epoch 1/50\n",
            "50000/50000 [==============================] - 7s 135us/step - loss: 2.1974 - acc: 0.2716 - val_loss: 2.1624 - val_acc: 0.3035\n",
            "Epoch 2/50\n",
            "50000/50000 [==============================] - 6s 122us/step - loss: 1.7438 - acc: 0.3873 - val_loss: 1.7850 - val_acc: 0.3815\n",
            "Epoch 3/50\n",
            "50000/50000 [==============================] - 6s 127us/step - loss: 1.6194 - acc: 0.4314 - val_loss: 1.6935 - val_acc: 0.4078\n",
            "Epoch 4/50\n",
            "50000/50000 [==============================] - 6s 126us/step - loss: 1.5469 - acc: 0.4590 - val_loss: 1.6337 - val_acc: 0.4219\n",
            "Epoch 5/50\n",
            "50000/50000 [==============================] - 6s 123us/step - loss: 1.4936 - acc: 0.4772 - val_loss: 1.6010 - val_acc: 0.4364\n",
            "Epoch 6/50\n",
            "50000/50000 [==============================] - 6s 124us/step - loss: 1.4490 - acc: 0.4922 - val_loss: 1.5578 - val_acc: 0.4534\n",
            "Epoch 7/50\n",
            "50000/50000 [==============================] - 6s 125us/step - loss: 1.4100 - acc: 0.5080 - val_loss: 1.5505 - val_acc: 0.4559\n",
            "Epoch 8/50\n",
            "50000/50000 [==============================] - 6s 124us/step - loss: 1.3760 - acc: 0.5192 - val_loss: 1.5202 - val_acc: 0.4697\n",
            "Epoch 9/50\n",
            "50000/50000 [==============================] - 6s 123us/step - loss: 1.3426 - acc: 0.5304 - val_loss: 1.5088 - val_acc: 0.4744\n",
            "Epoch 10/50\n",
            "50000/50000 [==============================] - 6s 123us/step - loss: 1.3125 - acc: 0.5426 - val_loss: 1.5034 - val_acc: 0.4756\n",
            "Epoch 11/50\n",
            "50000/50000 [==============================] - 6s 123us/step - loss: 1.2852 - acc: 0.5534 - val_loss: 1.4939 - val_acc: 0.4707\n",
            "Epoch 12/50\n",
            "50000/50000 [==============================] - 6s 123us/step - loss: 1.2575 - acc: 0.5615 - val_loss: 1.4984 - val_acc: 0.4775\n",
            "Epoch 13/50\n",
            "50000/50000 [==============================] - 6s 126us/step - loss: 1.2318 - acc: 0.5737 - val_loss: 1.5005 - val_acc: 0.4785\n",
            "Epoch 14/50\n",
            "50000/50000 [==============================] - 6s 125us/step - loss: 1.2084 - acc: 0.5822 - val_loss: 1.4839 - val_acc: 0.4808\n",
            "Epoch 15/50\n",
            "50000/50000 [==============================] - 6s 123us/step - loss: 1.1826 - acc: 0.5924 - val_loss: 1.4677 - val_acc: 0.4895\n",
            "Epoch 16/50\n",
            "50000/50000 [==============================] - 6s 124us/step - loss: 1.1603 - acc: 0.6000 - val_loss: 1.4546 - val_acc: 0.4928\n",
            "Epoch 17/50\n",
            "50000/50000 [==============================] - 6s 126us/step - loss: 1.1371 - acc: 0.6080 - val_loss: 1.4677 - val_acc: 0.4880\n",
            "Epoch 18/50\n",
            "50000/50000 [==============================] - 6s 123us/step - loss: 1.1152 - acc: 0.6157 - val_loss: 1.4543 - val_acc: 0.4922\n",
            "Epoch 19/50\n",
            "50000/50000 [==============================] - 6s 123us/step - loss: 1.0929 - acc: 0.6238 - val_loss: 1.4703 - val_acc: 0.4928\n",
            "Epoch 20/50\n",
            "50000/50000 [==============================] - 6s 122us/step - loss: 1.0713 - acc: 0.6345 - val_loss: 1.4508 - val_acc: 0.4983\n",
            "Epoch 21/50\n",
            "50000/50000 [==============================] - 6s 122us/step - loss: 1.0482 - acc: 0.6420 - val_loss: 1.4586 - val_acc: 0.4929\n",
            "Epoch 22/50\n",
            "50000/50000 [==============================] - 6s 126us/step - loss: 1.0286 - acc: 0.6514 - val_loss: 1.4669 - val_acc: 0.4905\n",
            "Epoch 23/50\n",
            "50000/50000 [==============================] - 6s 123us/step - loss: 1.0081 - acc: 0.6577 - val_loss: 1.4493 - val_acc: 0.5003\n",
            "Epoch 24/50\n",
            "50000/50000 [==============================] - 6s 124us/step - loss: 0.9865 - acc: 0.6676 - val_loss: 1.4620 - val_acc: 0.4946\n",
            "Epoch 25/50\n",
            "50000/50000 [==============================] - 6s 122us/step - loss: 0.9649 - acc: 0.6756 - val_loss: 1.4659 - val_acc: 0.4916\n",
            "Epoch 26/50\n",
            "50000/50000 [==============================] - 6s 125us/step - loss: 0.9425 - acc: 0.6842 - val_loss: 1.4751 - val_acc: 0.4922\n",
            "Epoch 27/50\n",
            "50000/50000 [==============================] - 6s 124us/step - loss: 0.9238 - acc: 0.6905 - val_loss: 1.4704 - val_acc: 0.4921\n",
            "Epoch 28/50\n",
            "50000/50000 [==============================] - 6s 123us/step - loss: 0.9033 - acc: 0.6990 - val_loss: 1.4898 - val_acc: 0.4903\n",
            "Epoch 29/50\n",
            "50000/50000 [==============================] - 6s 125us/step - loss: 0.8842 - acc: 0.7056 - val_loss: 1.4798 - val_acc: 0.4962\n",
            "Epoch 30/50\n",
            "50000/50000 [==============================] - 6s 123us/step - loss: 0.8641 - acc: 0.7137 - val_loss: 1.5155 - val_acc: 0.4902\n",
            "Epoch 31/50\n",
            "50000/50000 [==============================] - 6s 123us/step - loss: 0.8444 - acc: 0.7224 - val_loss: 1.4821 - val_acc: 0.5028\n",
            "Epoch 32/50\n",
            "50000/50000 [==============================] - 6s 127us/step - loss: 0.8247 - acc: 0.7291 - val_loss: 1.4974 - val_acc: 0.4949\n",
            "Epoch 33/50\n",
            "50000/50000 [==============================] - 6s 125us/step - loss: 0.8066 - acc: 0.7367 - val_loss: 1.4959 - val_acc: 0.4980\n",
            "Epoch 34/50\n",
            "50000/50000 [==============================] - 6s 123us/step - loss: 0.7858 - acc: 0.7454 - val_loss: 1.4943 - val_acc: 0.4956\n",
            "Epoch 35/50\n",
            "50000/50000 [==============================] - 6s 123us/step - loss: 0.7667 - acc: 0.7543 - val_loss: 1.5125 - val_acc: 0.5004\n",
            "Epoch 36/50\n",
            "50000/50000 [==============================] - 6s 125us/step - loss: 0.7472 - acc: 0.7607 - val_loss: 1.5210 - val_acc: 0.4916\n",
            "Epoch 37/50\n",
            "50000/50000 [==============================] - 6s 124us/step - loss: 0.7292 - acc: 0.7680 - val_loss: 1.5376 - val_acc: 0.4939\n",
            "Epoch 38/50\n",
            "50000/50000 [==============================] - 6s 124us/step - loss: 0.7118 - acc: 0.7749 - val_loss: 1.5477 - val_acc: 0.4923\n",
            "Epoch 39/50\n",
            "50000/50000 [==============================] - 6s 124us/step - loss: 0.6898 - acc: 0.7842 - val_loss: 1.6144 - val_acc: 0.4854\n",
            "Epoch 40/50\n",
            "50000/50000 [==============================] - 6s 122us/step - loss: 0.6755 - acc: 0.7901 - val_loss: 1.5547 - val_acc: 0.4919\n",
            "Epoch 41/50\n",
            "50000/50000 [==============================] - 6s 126us/step - loss: 0.6561 - acc: 0.7963 - val_loss: 1.5891 - val_acc: 0.4898\n",
            "Epoch 42/50\n",
            "50000/50000 [==============================] - 6s 126us/step - loss: 0.6375 - acc: 0.8063 - val_loss: 1.6064 - val_acc: 0.4883\n",
            "Epoch 43/50\n",
            "50000/50000 [==============================] - 6s 126us/step - loss: 0.6186 - acc: 0.8126 - val_loss: 1.5997 - val_acc: 0.4921\n",
            "Epoch 44/50\n",
            "50000/50000 [==============================] - 6s 124us/step - loss: 0.6029 - acc: 0.8179 - val_loss: 1.5918 - val_acc: 0.4925\n",
            "Epoch 45/50\n",
            "50000/50000 [==============================] - 6s 126us/step - loss: 0.5867 - acc: 0.8254 - val_loss: 1.5955 - val_acc: 0.4953\n",
            "Epoch 46/50\n",
            "50000/50000 [==============================] - 6s 127us/step - loss: 0.5686 - acc: 0.8331 - val_loss: 1.6408 - val_acc: 0.4851\n",
            "Epoch 47/50\n",
            "50000/50000 [==============================] - 6s 125us/step - loss: 0.5515 - acc: 0.8392 - val_loss: 1.6480 - val_acc: 0.4876\n",
            "Epoch 48/50\n",
            "50000/50000 [==============================] - 6s 123us/step - loss: 0.5344 - acc: 0.8452 - val_loss: 1.6514 - val_acc: 0.4844\n",
            "Epoch 49/50\n",
            "50000/50000 [==============================] - 6s 122us/step - loss: 0.5186 - acc: 0.8514 - val_loss: 1.6612 - val_acc: 0.4857\n",
            "Epoch 50/50\n",
            "50000/50000 [==============================] - 6s 123us/step - loss: 0.5037 - acc: 0.8591 - val_loss: 1.6959 - val_acc: 0.4859\n",
            "10000/10000 [==============================] - 1s 137us/step\n"
          ],
          "name": "stdout"
        }
      ]
    },
    {
      "cell_type": "code",
      "metadata": {
        "scrolled": true,
        "id": "3aJ-GtmVuxF6",
        "colab_type": "code",
        "colab": {
          "base_uri": "https://localhost:8080/",
          "height": 545
        },
        "outputId": "f7796193-0199-49c7-a5b3-72e61c4c8672"
      },
      "source": [
        "import matplotlib.pyplot as plt\n",
        "%matplotlib inline\n",
        "\"\"\"Code Here\n",
        "將結果繪出\n",
        "\"\"\"\n",
        "plt.plot(range(len(train_loss)), train_loss, label=\"train loss\")\n",
        "plt.plot(range(len(valid_loss)), valid_loss, label=\"valid loss\")\n",
        "plt.hlines(y=loss_loadback, xmin=0, xmax=len(train_loss), colors='r', linestyles='--')\n",
        "plt.legend()\n",
        "plt.title(\"Loss\")\n",
        "plt.show()\n",
        "\n",
        "plt.plot(range(len(train_acc)), train_acc, label=\"train accuracy\")\n",
        "plt.plot(range(len(valid_acc)), valid_acc, label=\"valid accuracy\")\n",
        "plt.hlines(y=acc_loadback, xmin=0, xmax=len(train_loss), colors='r', linestyles='--')\n",
        "plt.legend()\n",
        "plt.title(\"Accuracy\")\n",
        "plt.show()"
      ],
      "execution_count": 15,
      "outputs": [
        {
          "output_type": "display_data",
          "data": {
            "image/png": "[encoded data removed]",
            "text/plain": [
              "<Figure size 432x288 with 1 Axes>"
            ]
          },
          "metadata": {
            "tags": []
          }
        },
        {
          "output_type": "display_data",
          "data": {
            "image/png": "[encoded data removed]",
            "text/plain": [
              "<Figure size 432x288 with 1 Axes>"
            ]
          },
          "metadata": {
            "tags": []
          }
        }
      ]
    }
  ]
}