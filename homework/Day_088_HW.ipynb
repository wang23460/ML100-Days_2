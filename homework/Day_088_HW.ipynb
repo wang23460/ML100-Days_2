{
  "nbformat": 4,
  "nbformat_minor": 0,
  "metadata": {
    "kernelspec": {
      "display_name": "Python 3",
      "language": "python",
      "name": "python3"
    },
    "language_info": {
      "codemirror_mode": {
        "name": "ipython",
        "version": 3
      },
      "file_extension": ".py",
      "mimetype": "text/x-python",
      "name": "python",
      "nbconvert_exporter": "python",
      "pygments_lexer": "ipython3",
      "version": "3.7.3"
    },
    "colab": {
      "name": "Day_088_HW.ipynb",
      "provenance": []
    }
  },
  "cells": [
    {
      "cell_type": "markdown",
      "metadata": {
        "id": "Gf641f6pyizl",
        "colab_type": "text"
      },
      "source": [
        "## Work\n",
        "1. 請嘗試寫一個 callback 用來記錄各類別在訓練過程中，對驗證集的 True Positive 與 True Negative"
      ]
    },
    {
      "cell_type": "code",
      "metadata": {
        "id": "fQsu7v76yizr",
        "colab_type": "code",
        "colab": {
          "base_uri": "https://localhost:8080/",
          "height": 81
        },
        "outputId": "754a22a0-0ffb-45e6-d10f-1f49a1e7c967"
      },
      "source": [
        "import os\n",
        "import keras\n",
        "import warnings\n",
        "warnings.filterwarnings('ignore')\n",
        "# Disable GPU\n",
        "os.environ[\"CUDA_VISIBLE_DEVICES\"] = \"\""
      ],
      "execution_count": 1,
      "outputs": [
        {
          "output_type": "stream",
          "text": [
            "Using TensorFlow backend.\n"
          ],
          "name": "stderr"
        },
        {
          "output_type": "display_data",
          "data": {
            "text/html": [
              "<p style=\"color: red;\">\n",
              "The default version of TensorFlow in Colab will soon switch to TensorFlow 2.x.<br>\n",
              "We recommend you <a href=\"https://www.tensorflow.org/guide/migrate\" target=\"_blank\">upgrade</a> now \n",
              "or ensure your notebook will continue to use TensorFlow 1.x via the <code>%tensorflow_version 1.x</code> magic:\n",
              "<a href=\"https://colab.research.google.com/notebooks/tensorflow_version.ipynb\" target=\"_blank\">more info</a>.</p>\n"
            ],
            "text/plain": [
              "<IPython.core.display.HTML object>"
            ]
          },
          "metadata": {
            "tags": []
          }
        }
      ]
    },
    {
      "cell_type": "code",
      "metadata": {
        "id": "Q7mTeNr1yiz0",
        "colab_type": "code",
        "colab": {
          "base_uri": "https://localhost:8080/",
          "height": 52
        },
        "outputId": "f4ed2669-0ff5-4357-81b5-f880720f1f9d"
      },
      "source": [
        "train, test = keras.datasets.cifar10.load_data()"
      ],
      "execution_count": 2,
      "outputs": [
        {
          "output_type": "stream",
          "text": [
            "Downloading data from https://www.cs.toronto.edu/~kriz/cifar-10-python.tar.gz\n",
            "170500096/170498071 [==============================] - 2s 0us/step\n"
          ],
          "name": "stdout"
        }
      ]
    },
    {
      "cell_type": "code",
      "metadata": {
        "id": "00TfCSmxyiz8",
        "colab_type": "code",
        "colab": {}
      },
      "source": [
        "## 資料前處理\n",
        "def preproc_x(x, flatten=True):\n",
        "    x = x / 255.\n",
        "    if flatten:\n",
        "        x = x.reshape((len(x), -1))\n",
        "    return x\n",
        "\n",
        "def preproc_y(y, num_classes=10):\n",
        "    if y.shape[-1] == 1:\n",
        "        y = keras.utils.to_categorical(y, num_classes)\n",
        "    return y    "
      ],
      "execution_count": 0,
      "outputs": []
    },
    {
      "cell_type": "code",
      "metadata": {
        "id": "zkLzQZFzyi0F",
        "colab_type": "code",
        "colab": {}
      },
      "source": [
        "x_train, y_train = train\n",
        "x_test, y_test = test\n",
        "\n",
        "# Preproc the inputs\n",
        "x_train = preproc_x(x_train)\n",
        "x_test = preproc_x(x_test)\n",
        "\n",
        "# Preprc the outputs\n",
        "y_train = preproc_y(y_train)\n",
        "y_test = preproc_y(y_test)"
      ],
      "execution_count": 0,
      "outputs": []
    },
    {
      "cell_type": "code",
      "metadata": {
        "id": "lGPX0OTIyi0N",
        "colab_type": "code",
        "colab": {}
      },
      "source": [
        "from keras.layers import BatchNormalization\n",
        "def build_mlp(input_shape, output_units=10, num_neurons=[256, 256, 256]):\n",
        "    input_layer = keras.layers.Input(input_shape)\n",
        "    \n",
        "    for i, n_units in enumerate(num_neurons):\n",
        "        if i == 0:\n",
        "            x = keras.layers.Dense(units=n_units, \n",
        "                                   activation=\"relu\", \n",
        "                                   name=\"hidden_layer\"+str(i+1))(input_layer)\n",
        "            x = BatchNormalization()(x)\n",
        "        else:\n",
        "            x = keras.layers.Dense(units=n_units, \n",
        "                                   activation=\"relu\", \n",
        "                                   name=\"hidden_layer\"+str(i+1))(x)\n",
        "            x = BatchNormalization()(x)\n",
        "    \n",
        "    out = keras.layers.Dense(units=output_units, activation=\"softmax\", name=\"output\")(x)\n",
        "    \n",
        "    model = keras.models.Model(inputs=[input_layer], outputs=[out])\n",
        "    return model"
      ],
      "execution_count": 0,
      "outputs": []
    },
    {
      "cell_type": "code",
      "metadata": {
        "id": "4o9k96xayi0U",
        "colab_type": "code",
        "colab": {}
      },
      "source": [
        "## 超參數設定\n",
        "LEARNING_RATE = 1e-3\n",
        "EPOCHS = 25\n",
        "BATCH_SIZE = 1024\n",
        "MOMENTUM = 0.95"
      ],
      "execution_count": 0,
      "outputs": []
    },
    {
      "cell_type": "code",
      "metadata": {
        "id": "nDzxSOBfyi0f",
        "colab_type": "code",
        "colab": {}
      },
      "source": [
        "# 載入 Callbacks\n",
        "from keras.callbacks import Callback\n",
        "import numpy as np\n",
        "# Record_fp_tp\n",
        "class Record_tp_tn(Callback):\n",
        "    \"\"\"Code Here\n",
        "    撰寫一個紀錄 ture positive 與 true negative 數量的 callbacks    \n",
        "    \"\"\"\n",
        "    def on_epoch_end(self, epoch, logs = {}, thres=0.5):\n",
        "        logs = logs or {}\n",
        "        y_true = self.validation_data[1].argmax(axis = 1)\n",
        "        y_pred = self.model.predict(self.validation_data[0])\n",
        "        y_pred = (y_pred[:, 1] >= thres) * 1\n",
        "        logs[\"valid_tp\"] = np.sum(np.logical_and(y_pred == 1, y_true == 1))\n",
        "        logs[\"valid_tn\"] = np.sum(np.logical_and(y_pred == 0, y_true == 0))       \n",
        "rec_tptn = Record_tp_tn()"
      ],
      "execution_count": 0,
      "outputs": []
    },
    {
      "cell_type": "code",
      "metadata": {
        "scrolled": true,
        "id": "DazygD1Ayi0l",
        "colab_type": "code",
        "colab": {
          "base_uri": "https://localhost:8080/",
          "height": 1000
        },
        "outputId": "1dd87dd0-465e-4d57-bc24-6a5da06f1356"
      },
      "source": [
        "model = build_mlp(input_shape=x_train.shape[1:])\n",
        "model.summary()\n",
        "optimizer = keras.optimizers.SGD(lr=LEARNING_RATE, nesterov=True, momentum=MOMENTUM)\n",
        "model.compile(loss=\"categorical_crossentropy\", metrics=[\"accuracy\"], optimizer=optimizer)\n",
        "\n",
        "\"\"\"Code Here\n",
        "將 callbacks 放入模型訓練流程中\n",
        "\"\"\"\n",
        "model.fit(x_train, y_train, \n",
        "          epochs=EPOCHS, \n",
        "          batch_size=BATCH_SIZE, \n",
        "          validation_data=(x_test, y_test), \n",
        "          shuffle=True,\n",
        "          callbacks=[rec_tptn]\n",
        "         )\n",
        "\n",
        "# Collect results\n",
        "train_loss = model.history.history[\"loss\"]\n",
        "valid_loss = model.history.history[\"val_loss\"]\n",
        "train_acc = model.history.history[\"acc\"]\n",
        "valid_acc = model.history.history[\"val_acc\"]\n",
        "\n",
        "\"\"\"Code Here\n",
        "將 tp/tn 從訓練完的模型中取出\n",
        "\"\"\"\n",
        "valid_tp = model.history.history['valid_tp']\n",
        "valid_tn = model.history.history['valid_tn']"
      ],
      "execution_count": 9,
      "outputs": [
        {
          "output_type": "stream",
          "text": [
            "Model: \"model_2\"\n",
            "_________________________________________________________________\n",
            "Layer (type)                 Output Shape              Param #   \n",
            "=================================================================\n",
            "input_2 (InputLayer)         (None, 3072)              0         \n",
            "_________________________________________________________________\n",
            "hidden_layer1 (Dense)        (None, 256)               786688    \n",
            "_________________________________________________________________\n",
            "batch_normalization_4 (Batch (None, 256)               1024      \n",
            "_________________________________________________________________\n",
            "hidden_layer2 (Dense)        (None, 256)               65792     \n",
            "_________________________________________________________________\n",
            "batch_normalization_5 (Batch (None, 256)               1024      \n",
            "_________________________________________________________________\n",
            "hidden_layer3 (Dense)        (None, 256)               65792     \n",
            "_________________________________________________________________\n",
            "batch_normalization_6 (Batch (None, 256)               1024      \n",
            "_________________________________________________________________\n",
            "output (Dense)               (None, 10)                2570      \n",
            "=================================================================\n",
            "Total params: 923,914\n",
            "Trainable params: 922,378\n",
            "Non-trainable params: 1,536\n",
            "_________________________________________________________________\n",
            "Train on 50000 samples, validate on 10000 samples\n",
            "Epoch 1/25\n",
            "50000/50000 [==============================] - 7s 135us/step - loss: 2.2527 - acc: 0.2624 - val_loss: 2.0940 - val_acc: 0.3189\n",
            "Epoch 2/25\n",
            "50000/50000 [==============================] - 6s 118us/step - loss: 1.7704 - acc: 0.3852 - val_loss: 1.8285 - val_acc: 0.3728\n",
            "Epoch 3/25\n",
            "50000/50000 [==============================] - 6s 118us/step - loss: 1.6425 - acc: 0.4242 - val_loss: 1.7551 - val_acc: 0.3973\n",
            "Epoch 4/25\n",
            "50000/50000 [==============================] - 6s 118us/step - loss: 1.5707 - acc: 0.4490 - val_loss: 1.6466 - val_acc: 0.4258\n",
            "Epoch 5/25\n",
            "50000/50000 [==============================] - 6s 117us/step - loss: 1.5132 - acc: 0.4704 - val_loss: 1.6049 - val_acc: 0.4398\n",
            "Epoch 6/25\n",
            "50000/50000 [==============================] - 6s 115us/step - loss: 1.4705 - acc: 0.4849 - val_loss: 1.5847 - val_acc: 0.4479\n",
            "Epoch 7/25\n",
            "50000/50000 [==============================] - 6s 117us/step - loss: 1.4344 - acc: 0.4995 - val_loss: 1.5642 - val_acc: 0.4466\n",
            "Epoch 8/25\n",
            "50000/50000 [==============================] - 6s 117us/step - loss: 1.3999 - acc: 0.5109 - val_loss: 1.5562 - val_acc: 0.4567\n",
            "Epoch 9/25\n",
            "50000/50000 [==============================] - 6s 117us/step - loss: 1.3684 - acc: 0.5230 - val_loss: 1.5415 - val_acc: 0.4569\n",
            "Epoch 10/25\n",
            "50000/50000 [==============================] - 6s 118us/step - loss: 1.3430 - acc: 0.5334 - val_loss: 1.5100 - val_acc: 0.4713\n",
            "Epoch 11/25\n",
            "50000/50000 [==============================] - 6s 117us/step - loss: 1.3180 - acc: 0.5418 - val_loss: 1.5102 - val_acc: 0.4718\n",
            "Epoch 12/25\n",
            "50000/50000 [==============================] - 6s 118us/step - loss: 1.2947 - acc: 0.5507 - val_loss: 1.4991 - val_acc: 0.4768\n",
            "Epoch 13/25\n",
            "50000/50000 [==============================] - 6s 118us/step - loss: 1.2719 - acc: 0.5573 - val_loss: 1.4821 - val_acc: 0.4826\n",
            "Epoch 14/25\n",
            "50000/50000 [==============================] - 6s 116us/step - loss: 1.2506 - acc: 0.5660 - val_loss: 1.4820 - val_acc: 0.4866\n",
            "Epoch 15/25\n",
            "50000/50000 [==============================] - 6s 116us/step - loss: 1.2310 - acc: 0.5736 - val_loss: 1.4770 - val_acc: 0.4835\n",
            "Epoch 16/25\n",
            "50000/50000 [==============================] - 6s 118us/step - loss: 1.2119 - acc: 0.5822 - val_loss: 1.4671 - val_acc: 0.4878\n",
            "Epoch 17/25\n",
            "50000/50000 [==============================] - 6s 117us/step - loss: 1.1938 - acc: 0.5864 - val_loss: 1.4705 - val_acc: 0.4893\n",
            "Epoch 18/25\n",
            "50000/50000 [==============================] - 6s 118us/step - loss: 1.1742 - acc: 0.5944 - val_loss: 1.4570 - val_acc: 0.4923\n",
            "Epoch 19/25\n",
            "50000/50000 [==============================] - 6s 117us/step - loss: 1.1565 - acc: 0.6000 - val_loss: 1.4612 - val_acc: 0.4907\n",
            "Epoch 20/25\n",
            "50000/50000 [==============================] - 6s 118us/step - loss: 1.1396 - acc: 0.6079 - val_loss: 1.4579 - val_acc: 0.4892\n",
            "Epoch 21/25\n",
            "50000/50000 [==============================] - 6s 119us/step - loss: 1.1215 - acc: 0.6138 - val_loss: 1.4518 - val_acc: 0.4970\n",
            "Epoch 22/25\n",
            "50000/50000 [==============================] - 6s 119us/step - loss: 1.1063 - acc: 0.6189 - val_loss: 1.4546 - val_acc: 0.4977\n",
            "Epoch 23/25\n",
            "50000/50000 [==============================] - 6s 118us/step - loss: 1.0885 - acc: 0.6265 - val_loss: 1.4568 - val_acc: 0.4952\n",
            "Epoch 24/25\n",
            "50000/50000 [==============================] - 6s 116us/step - loss: 1.0725 - acc: 0.6322 - val_loss: 1.4508 - val_acc: 0.4982\n",
            "Epoch 25/25\n",
            "50000/50000 [==============================] - 6s 118us/step - loss: 1.0573 - acc: 0.6357 - val_loss: 1.4507 - val_acc: 0.4959\n"
          ],
          "name": "stdout"
        }
      ]
    },
    {
      "cell_type": "code",
      "metadata": {
        "id": "Jz4Usw0uyi0s",
        "colab_type": "code",
        "colab": {
          "base_uri": "https://localhost:8080/",
          "height": 809
        },
        "outputId": "8fe602fe-348e-4027-c7a0-12aa328f01b0"
      },
      "source": [
        "import matplotlib.pyplot as plt\n",
        "%matplotlib inline\n",
        "\n",
        "plt.plot(range(len(train_loss)), train_loss, label=\"train loss\")\n",
        "plt.plot(range(len(valid_loss)), valid_loss, label=\"valid loss\")\n",
        "plt.legend()\n",
        "plt.title(\"Loss\")\n",
        "plt.show()\n",
        "\n",
        "plt.plot(range(len(train_acc)), train_acc, label=\"train accuracy\")\n",
        "plt.plot(range(len(valid_acc)), valid_acc, label=\"valid accuracy\")\n",
        "plt.legend()\n",
        "plt.title(\"Accuracy\")\n",
        "plt.show()\n",
        "\n",
        "plt.plot(range(len(valid_tp)), valid_tp, label=\"valid tp\", color=\"navy\")\n",
        "plt.plot(range(len(valid_tn)), valid_tn, label=\"valid tn\", color=\"red\")\n",
        "plt.legend()\n",
        "plt.title(\"True positives and True Negatives\")\n",
        "plt.show()\n"
      ],
      "execution_count": 10,
      "outputs": [
        {
          "output_type": "display_data",
          "data": {
            "image/png": "[encoded data removed]",
            "text/plain": [
              "<Figure size 432x288 with 1 Axes>"
            ]
          },
          "metadata": {
            "tags": []
          }
        },
        {
          "output_type": "display_data",
          "data": {
            "image/png": "[encoded data removed]",
            "text/plain": [
              "<Figure size 432x288 with 1 Axes>"
            ]
          },
          "metadata": {
            "tags": []
          }
        },
        {
          "output_type": "display_data",
          "data": {
            "image/png": "[encoded data removed]",
            "text/plain": [
              "<Figure size 432x288 with 1 Axes>"
            ]
          },
          "metadata": {
            "tags": []
          }
        }
      ]
    }
  ]
}