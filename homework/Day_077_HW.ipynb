{
 "cells": [
  {
   "cell_type": "markdown",
   "metadata": {},
   "source": [
    "## Work\n",
    "1. 請將 Epoch 加到 500 個，並觀察 learning curve 的走勢\n",
    "2. 請將 Optimizer 換成 SGD，並觀察 learning curve 的走勢"
   ]
  },
  {
   "cell_type": "code",
   "execution_count": 1,
   "metadata": {},
   "outputs": [
    {
     "name": "stderr",
     "output_type": "stream",
     "text": [
      "Using TensorFlow backend.\n"
     ]
    }
   ],
   "source": [
    "import os\n",
    "import keras\n",
    "\n",
    "# 本作業可以不需使用 GPU, 將 GPU 設定為 \"無\" (若有 GPU 且想開啟，可設為 \"0\")\n",
    "os.environ[\"CUDA_VISIBLE_DEVICES\"] = \"\""
   ]
  },
  {
   "cell_type": "code",
   "execution_count": 2,
   "metadata": {},
   "outputs": [],
   "source": [
    "# 從 Keras 的內建功能中，取得 train 與 test 資料集\n",
    "train, test = keras.datasets.cifar10.load_data()"
   ]
  },
  {
   "cell_type": "code",
   "execution_count": 3,
   "metadata": {},
   "outputs": [],
   "source": [
    "# 將 X 與 Y 獨立放進變數\n",
    "x_train, y_train = train\n",
    "x_test, y_test = test\n",
    "# 資料前處理 - 標準化\n",
    "x_train = x_train / 255.\n",
    "x_test = x_test / 255.\n",
    "\n",
    "# 將資料從圖形 (RGB) 轉為向量 (Single Vector)\n",
    "x_train = x_train.reshape((len(x_train), -1))\n",
    "x_test = x_test.reshape((len(x_test), -1))\n",
    "\n",
    "# 將目標轉為 one-hot encoding\n",
    "y_train = keras.utils.to_categorical(y_train, num_classes=10)\n",
    "y_test = keras.utils.to_categorical(y_test, num_classes=10)"
   ]
  },
  {
   "cell_type": "code",
   "execution_count": 4,
   "metadata": {},
   "outputs": [
    {
     "name": "stdout",
     "output_type": "stream",
     "text": [
      "WARNING:tensorflow:From C:\\Users\\user\\Anaconda3\\lib\\site-packages\\tensorflow\\python\\framework\\op_def_library.py:263: colocate_with (from tensorflow.python.framework.ops) is deprecated and will be removed in a future version.\n",
      "Instructions for updating:\n",
      "Colocations handled automatically by placer.\n"
     ]
    }
   ],
   "source": [
    "def build_mlp():\n",
    "    \"\"\"Code Here\n",
    "    建立你的神經網路\n",
    "    \"\"\"\n",
    "    input_layer = keras.layers.Input([x_train.shape[-1]])\n",
    "    x = keras.layers.Dense(units=512, activation=\"relu\")(input_layer)\n",
    "    x = keras.layers.Dense(units=256, activation=\"relu\")(x)\n",
    "    x = keras.layers.Dense(units=128, activation=\"relu\")(x)\n",
    "    out = keras.layers.Dense(units=10, activation=\"softmax\")(x)\n",
    "    \n",
    "    model = keras.models.Model(inputs=[input_layer], outputs=[out])\n",
    "\n",
    "    return model\n",
    "model = build_mlp()\n"
   ]
  },
  {
   "cell_type": "code",
   "execution_count": 5,
   "metadata": {},
   "outputs": [],
   "source": [
    "\"\"\"\n",
    "Compile 模型\n",
    "\"\"\"\n",
    "model.compile(loss=\"categorical_crossentropy\", metrics=[\"accuracy\"], optimizer='SGD')"
   ]
  },
  {
   "cell_type": "code",
   "execution_count": 9,
   "metadata": {
    "scrolled": true
   },
   "outputs": [
    {
     "name": "stdout",
     "output_type": "stream",
     "text": [
      "Train on 50000 samples, validate on 10000 samples\n",
      "Epoch 1/20\n",
      "50000/50000 [==============================] - 11s 220us/step - loss: 1.2742 - acc: 0.5533 - val_loss: 1.4351 - val_acc: 0.4858\n",
      "Epoch 2/20\n",
      "50000/50000 [==============================] - 11s 220us/step - loss: 1.2715 - acc: 0.5542 - val_loss: 1.4113 - val_acc: 0.4945\n",
      "Epoch 3/20\n",
      "50000/50000 [==============================] - 11s 224us/step - loss: 1.2644 - acc: 0.5564 - val_loss: 1.4008 - val_acc: 0.4942\n",
      "Epoch 4/20\n",
      "50000/50000 [==============================] - 11s 222us/step - loss: 1.2602 - acc: 0.5577 - val_loss: 1.4745 - val_acc: 0.4723\n",
      "Epoch 5/20\n",
      "50000/50000 [==============================] - 12s 231us/step - loss: 1.2541 - acc: 0.5614 - val_loss: 1.4268 - val_acc: 0.4868\n",
      "Epoch 6/20\n",
      "50000/50000 [==============================] - 12s 245us/step - loss: 1.2424 - acc: 0.5659 - val_loss: 1.4455 - val_acc: 0.4884\n",
      "Epoch 7/20\n",
      "50000/50000 [==============================] - 12s 244us/step - loss: 1.2343 - acc: 0.5666 - val_loss: 1.4641 - val_acc: 0.4732\n",
      "Epoch 8/20\n",
      "50000/50000 [==============================] - 12s 234us/step - loss: 1.2380 - acc: 0.5667 - val_loss: 1.4249 - val_acc: 0.4894\n",
      "Epoch 9/20\n",
      "50000/50000 [==============================] - 12s 231us/step - loss: 1.2222 - acc: 0.5719 - val_loss: 1.3984 - val_acc: 0.5030\n",
      "Epoch 10/20\n",
      "50000/50000 [==============================] - 11s 213us/step - loss: 1.2220 - acc: 0.5706 - val_loss: 1.4215 - val_acc: 0.4913\n",
      "Epoch 11/20\n",
      "50000/50000 [==============================] - 12s 243us/step - loss: 1.2111 - acc: 0.5774 - val_loss: 1.4704 - val_acc: 0.4774\n",
      "Epoch 12/20\n",
      "50000/50000 [==============================] - 11s 228us/step - loss: 1.2042 - acc: 0.5775 - val_loss: 1.4014 - val_acc: 0.5073\n",
      "Epoch 13/20\n",
      "50000/50000 [==============================] - 11s 216us/step - loss: 1.1989 - acc: 0.5808 - val_loss: 1.3509 - val_acc: 0.5163\n",
      "Epoch 14/20\n",
      "50000/50000 [==============================] - 10s 206us/step - loss: 1.1967 - acc: 0.5811 - val_loss: 1.4269 - val_acc: 0.4983\n",
      "Epoch 15/20\n",
      "50000/50000 [==============================] - 11s 212us/step - loss: 1.1875 - acc: 0.5849 - val_loss: 1.3912 - val_acc: 0.4985\n",
      "Epoch 16/20\n",
      "50000/50000 [==============================] - 12s 236us/step - loss: 1.1839 - acc: 0.5868 - val_loss: 1.3505 - val_acc: 0.5167\n",
      "Epoch 17/20\n",
      "50000/50000 [==============================] - 12s 237us/step - loss: 1.1705 - acc: 0.5907 - val_loss: 1.3916 - val_acc: 0.5075\n",
      "Epoch 18/20\n",
      "50000/50000 [==============================] - 12s 238us/step - loss: 1.1739 - acc: 0.5886 - val_loss: 1.4502 - val_acc: 0.4903\n",
      "Epoch 19/20\n",
      "50000/50000 [==============================] - 10s 208us/step - loss: 1.1655 - acc: 0.5916 - val_loss: 1.4474 - val_acc: 0.4893\n",
      "Epoch 20/20\n",
      "50000/50000 [==============================] - 10s 205us/step - loss: 1.1595 - acc: 0.5944 - val_loss: 1.4150 - val_acc: 0.4989\n"
     ]
    },
    {
     "data": {
      "text/plain": [
       "<keras.callbacks.History at 0x1574b291160>"
      ]
     },
     "execution_count": 9,
     "metadata": {},
     "output_type": "execute_result"
    }
   ],
   "source": [
    "\"\"\"\n",
    "設定要訓練的 Epoch 數\n",
    "\"\"\"\n",
    "model.fit(x_train, y_train, \n",
    "          epochs=20, \n",
    "          batch_size=256, \n",
    "          validation_data=(x_test, y_test), \n",
    "          shuffle=True)"
   ]
  },
  {
   "cell_type": "code",
   "execution_count": 11,
   "metadata": {},
   "outputs": [
    {
     "data": {
      "image/png": "[encoded data removed]",
      "text/plain": [
       "<Figure size 432x288 with 1 Axes>"
      ]
     },
     "metadata": {
      "needs_background": "light"
     },
     "output_type": "display_data"
    },
    {
     "data": {
      "image/png": "[encoded data removed]",
      "text/plain": [
       "<Figure size 432x288 with 1 Axes>"
      ]
     },
     "metadata": {
      "needs_background": "light"
     },
     "output_type": "display_data"
    }
   ],
   "source": [
    "import matplotlib.pyplot as plt\n",
    "%matplotlib inline\n",
    "# 以視覺畫方式檢視訓練過程\n",
    "\n",
    "train_loss = model.history.history[\"loss\"]\n",
    "valid_loss = model.history.history[\"val_loss\"]\n",
    "\n",
    "train_acc = model.history.history[\"acc\"]\n",
    "valid_acc = model.history.history[\"val_acc\"]\n",
    "\n",
    "plt.plot(range(len(train_loss)), train_loss, label=\"train loss\")\n",
    "plt.plot(range(len(valid_loss)), valid_loss, label=\"valid loss\")\n",
    "plt.legend()\n",
    "plt.title(\"Loss\")\n",
    "plt.show()\n",
    "\n",
    "plt.plot(range(len(train_acc)), train_acc, label=\"train accuracy\")\n",
    "plt.plot(range(len(valid_acc)), valid_acc, label=\"valid accuracy\")\n",
    "plt.legend()\n",
    "plt.title(\"Accuracy\")\n",
    "plt.show()"
   ]
  }
 ],
 "metadata": {
  "kernelspec": {
   "display_name": "Python 3",
   "language": "python",
   "name": "python3"
  },
  "language_info": {
   "codemirror_mode": {
    "name": "ipython",
    "version": 3
   },
   "file_extension": ".py",
   "mimetype": "text/x-python",
   "name": "python",
   "nbconvert_exporter": "python",
   "pygments_lexer": "ipython3",
   "version": "3.7.3"
  }
 },
 "nbformat": 4,
 "nbformat_minor": 2
}
