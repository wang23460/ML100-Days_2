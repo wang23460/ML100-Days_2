{
 "cells": [
  {
   "cell_type": "code",
   "execution_count": 5,
   "metadata": {},
   "outputs": [],
   "source": [
    "import pandas as pd\n",
    "import numpy as np"
   ]
  },
  {
   "cell_type": "markdown",
   "metadata": {},
   "source": [
    "## **作業-1**"
   ]
  },
  {
   "cell_type": "markdown",
   "metadata": {},
   "source": [
    "#### **資料 : 515K Hotel Review in Europe**\n",
    "##### https://www.kaggle.com/jiashenliu/515k-hotel-reviews-data-in-europe/home"
   ]
  },
  {
   "cell_type": "markdown",
   "metadata": {},
   "source": [
    "#### 1. **你選的這組資料為何重要**"
   ]
  },
  {
   "cell_type": "markdown",
   "metadata": {},
   "source": [
    "##### 旅客的回饋對於住宿業來說也是改進的一環，資料包含正面回饋字詞與負面回饋字詞\n",
    "##### 個別旅館可透過檢索字詞來了解應改善之處"
   ]
  },
  {
   "cell_type": "markdown",
   "metadata": {},
   "source": [
    "#### 2. 資料從何而來 (tips: 譬如提供者是誰、以什麼方式蒐集)"
   ]
  },
  {
   "cell_type": "markdown",
   "metadata": {},
   "source": [
    "##### Data由提供者Jason Liu從Booking.com上將資料抓下來"
   ]
  },
  {
   "cell_type": "markdown",
   "metadata": {},
   "source": [
    "#### 3. 蒐集而來的資料型態為何"
   ]
  },
  {
   "cell_type": "code",
   "execution_count": 6,
   "metadata": {},
   "outputs": [
    {
     "name": "stdout",
     "output_type": "stream",
     "text": [
      "<class 'pandas.core.frame.DataFrame'>\n",
      "RangeIndex: 515738 entries, 0 to 515737\n",
      "Data columns (total 17 columns):\n",
      "Hotel_Address                                 515738 non-null object\n",
      "Additional_Number_of_Scoring                  515738 non-null int64\n",
      "Review_Date                                   515738 non-null object\n",
      "Average_Score                                 515738 non-null float64\n",
      "Hotel_Name                                    515738 non-null object\n",
      "Reviewer_Nationality                          515738 non-null object\n",
      "Negative_Review                               515738 non-null object\n",
      "Review_Total_Negative_Word_Counts             515738 non-null int64\n",
      "Total_Number_of_Reviews                       515738 non-null int64\n",
      "Positive_Review                               515738 non-null object\n",
      "Review_Total_Positive_Word_Counts             515738 non-null int64\n",
      "Total_Number_of_Reviews_Reviewer_Has_Given    515738 non-null int64\n",
      "Reviewer_Score                                515738 non-null float64\n",
      "Tags                                          515738 non-null object\n",
      "days_since_review                             515738 non-null object\n",
      "lat                                           512470 non-null float64\n",
      "lng                                           512470 non-null float64\n",
      "dtypes: float64(4), int64(5), object(8)\n",
      "memory usage: 66.9+ MB\n"
     ]
    }
   ],
   "source": [
    "hotel = pd.read_csv('C:/Users/user/Documents/GitHub/data/Hotel_Reviews.csv')\n",
    "hotel.info()"
   ]
  },
  {
   "cell_type": "markdown",
   "metadata": {},
   "source": [
    "##### 可以看到有文字形資料(包括地址、評論、評論者國籍)\n",
    "##### 也有數值型資料(飯店評價、平均評價、正面字詞次數)"
   ]
  },
  {
   "cell_type": "markdown",
   "metadata": {},
   "source": [
    "#### 4. 這組資料想解決的問題如何評估"
   ]
  },
  {
   "cell_type": "markdown",
   "metadata": {},
   "source": [
    "##### 可以做字詞與評價的回歸式來找出哪些正面字詞會影響評價，並著重在該特點來經營\n",
    "##### 也可以檢視負面字詞與評價，找出該改善之處\n",
    "##### 另外資料中包含有旅行目的的標籤，可找出是商業目的或休閒目的與評價的關聯"
   ]
  },
  {
   "cell_type": "markdown",
   "metadata": {},
   "source": [
    " "
   ]
  },
  {
   "cell_type": "markdown",
   "metadata": {},
   "source": [
    "## **作業-2**\n",
    "##### 參照下面兩篇文章\n",
    "##### https://reurl.cc/loz8q\n",
    "##### https://reurl.cc/6ZKAZ"
   ]
  },
  {
   "cell_type": "markdown",
   "metadata": {},
   "source": [
    "#### 1. 核心問題為何 (tips: 如何定義提升業績 & 你的假設)"
   ]
  },
  {
   "cell_type": "markdown",
   "metadata": {},
   "source": [
    "##### 我認為核心問題是如何透過數據去預測載客需求及提升載客量"
   ]
  },
  {
   "cell_type": "markdown",
   "metadata": {},
   "source": [
    "#### 2. 資料從何而來 (tips: 哪些資料可能會對你想問的問題產生影響 & 資料如何蒐集)"
   ]
  },
  {
   "cell_type": "markdown",
   "metadata": {},
   "source": [
    "##### 可藉由載客APP的登記數據來記錄各個時間及地點及當時天氣之載客人數；另外還可分析平假日之載客率(或節慶、大型活動)"
   ]
  },
  {
   "cell_type": "markdown",
   "metadata": {},
   "source": [
    "#### 3. 蒐集而來的資料型態為何"
   ]
  },
  {
   "cell_type": "markdown",
   "metadata": {},
   "source": [
    "##### 除載客人數外，其他數據多為字元變數"
   ]
  },
  {
   "cell_type": "markdown",
   "metadata": {},
   "source": [
    "#### 4. 你要回答的問題，其如何評估"
   ]
  },
  {
   "cell_type": "markdown",
   "metadata": {},
   "source": [
    "##### 可藉由機器學習之模型，或推薦系統的概念，將以上所提及之變數加入模型中，讓司機可選擇推薦的載客地點\n",
    "##### 也可驗證看是否實際載客率有達到預估載客率"
   ]
  },
  {
   "cell_type": "markdown",
   "metadata": {},
   "source": [
    " "
   ]
  },
  {
   "cell_type": "markdown",
   "metadata": {},
   "source": [
    "## **作業-3 : MSE**"
   ]
  },
  {
   "cell_type": "markdown",
   "metadata": {},
   "source": [
    "##### 參考https://reurl.cc/e3Qbm"
   ]
  },
  {
   "cell_type": "markdown",
   "metadata": {},
   "source": [
    "## 練習時間\n",
    "#### 請寫一個函式用來計算 Mean Square Error\n",
    "$ MSE = \\frac{1}{n}\\sum_{i=1}^{n}{(Y_i - \\hat{Y}_i)^2} $\n",
    "\n",
    "### Hint: [如何取平方](https://googoodesign.gitbooks.io/-ezpython/unit-1.html)"
   ]
  },
  {
   "cell_type": "code",
   "execution_count": 1,
   "metadata": {},
   "outputs": [],
   "source": [
    "import numpy as np\n",
    "import matplotlib.pyplot as plt"
   ]
  },
  {
   "cell_type": "code",
   "execution_count": 16,
   "metadata": {},
   "outputs": [],
   "source": [
    "def mean_squared_error(y, yp):\n",
    "    mse = sum((y - yp)**2) / len(y)\n",
    "    return mse\n",
    "def mean_absolute_error(y, yp):\n",
    "    mae = sum(abs(y-yp)) / len(y)\n",
    "    return mae"
   ]
  },
  {
   "cell_type": "code",
   "execution_count": 7,
   "metadata": {},
   "outputs": [
    {
     "data": {
      "image/png": "[encoded data removed]",
      "text/plain": [
       "<Figure size 432x288 with 1 Axes>"
      ]
     },
     "metadata": {
      "needs_background": "light"
     },
     "output_type": "display_data"
    }
   ],
   "source": [
    "w = 3\n",
    "b = 0.5\n",
    "\n",
    "x_lin = np.linspace(0, 100, 101)\n",
    "\n",
    "y = (x_lin + np.random.randn(101) * 5) * w + b\n",
    "\n",
    "plt.plot(x_lin, y, 'b.', label = 'data points')\n",
    "plt.title(\"Assume we have data points\")\n",
    "plt.legend(loc = 2)\n",
    "plt.show()"
   ]
  },
  {
   "cell_type": "code",
   "execution_count": 14,
   "metadata": {},
   "outputs": [
    {
     "data": {
      "image/png": "[encoded data removed]",
      "text/plain": [
       "<Figure size 432x288 with 1 Axes>"
      ]
     },
     "metadata": {
      "needs_background": "light"
     },
     "output_type": "display_data"
    }
   ],
   "source": [
    "y_hat = x_lin * w + b\n",
    "plt.plot(x_lin, y, 'b.', label = 'data')\n",
    "plt.plot(x_lin, y_hat, 'r-', label = 'prediction')\n",
    "plt.title(\"Assume we have data points (And the prediction)\")\n",
    "plt.legend(loc = 2)\n",
    "plt.show()"
   ]
  },
  {
   "cell_type": "code",
   "execution_count": 17,
   "metadata": {},
   "outputs": [
    {
     "name": "stdout",
     "output_type": "stream",
     "text": [
      "The Mean squared error is 233.385\n",
      "The Mean absolute error is 12.080\n"
     ]
    }
   ],
   "source": [
    "# 執行 Function, 確認有沒有正常執行\n",
    "MSE = mean_squared_error(y, y_hat)\n",
    "MAE = mean_absolute_error(y, y_hat)\n",
    "print(\"The Mean squared error is %.3f\" % (MSE))\n",
    "print(\"The Mean absolute error is %.3f\" % (MAE))"
   ]
  }
 ],
 "metadata": {
  "kernelspec": {
   "display_name": "Python 3",
   "language": "python",
   "name": "python3"
  },
  "language_info": {
   "codemirror_mode": {
    "name": "ipython",
    "version": 3
   },
   "file_extension": ".py",
   "mimetype": "text/x-python",
   "name": "python",
   "nbconvert_exporter": "python",
   "pygments_lexer": "ipython3",
   "version": "3.7.0"
  }
 },
 "nbformat": 4,
 "nbformat_minor": 2
}
