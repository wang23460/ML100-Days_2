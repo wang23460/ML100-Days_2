{
  "nbformat": 4,
  "nbformat_minor": 0,
  "metadata": {
    "kernelspec": {
      "display_name": "Python 3",
      "language": "python",
      "name": "python3"
    },
    "language_info": {
      "codemirror_mode": {
        "name": "ipython",
        "version": 3
      },
      "file_extension": ".py",
      "mimetype": "text/x-python",
      "name": "python",
      "nbconvert_exporter": "python",
      "pygments_lexer": "ipython3",
      "version": "3.7.3"
    },
    "colab": {
      "name": "Day_084_HW.ipynb",
      "provenance": []
    }
  },
  "cells": [
    {
      "cell_type": "markdown",
      "metadata": {
        "id": "n_aTNJuAaUQo",
        "colab_type": "text"
      },
      "source": [
        "## Work\n",
        "### 請結合前面的知識與程式碼，比較不同的 regularization 的組合對訓練的結果與影響：如 dropout, regularizers, batch-normalization 等"
      ]
    },
    {
      "cell_type": "code",
      "metadata": {
        "id": "iH-jjtQFaUQx",
        "colab_type": "code",
        "colab": {
          "base_uri": "https://localhost:8080/",
          "height": 81
        },
        "outputId": "78b25466-9c2a-457e-a26a-4d5ded62c3c0"
      },
      "source": [
        "import os\n",
        "import keras\n",
        "import itertools\n",
        "import warnings\n",
        "warnings.filterwarnings('ignore')\n",
        "# Disable GPU\n",
        "os.environ[\"CUDA_VISIBLE_DEVICES\"] = \"0\""
      ],
      "execution_count": 1,
      "outputs": [
        {
          "output_type": "stream",
          "text": [
            "Using TensorFlow backend.\n"
          ],
          "name": "stderr"
        },
        {
          "output_type": "display_data",
          "data": {
            "text/html": [
              "<p style=\"color: red;\">\n",
              "The default version of TensorFlow in Colab will soon switch to TensorFlow 2.x.<br>\n",
              "We recommend you <a href=\"https://www.tensorflow.org/guide/migrate\" target=\"_blank\">upgrade</a> now \n",
              "or ensure your notebook will continue to use TensorFlow 1.x via the <code>%tensorflow_version 1.x</code> magic:\n",
              "<a href=\"https://colab.research.google.com/notebooks/tensorflow_version.ipynb\" target=\"_blank\">more info</a>.</p>\n"
            ],
            "text/plain": [
              "<IPython.core.display.HTML object>"
            ]
          },
          "metadata": {
            "tags": []
          }
        }
      ]
    },
    {
      "cell_type": "code",
      "metadata": {
        "id": "5FgImqqIaUQ2",
        "colab_type": "code",
        "colab": {
          "base_uri": "https://localhost:8080/",
          "height": 52
        },
        "outputId": "d1cfff04-d97e-401b-96ef-0af06eb8c59e"
      },
      "source": [
        "train, test = keras.datasets.cifar10.load_data()"
      ],
      "execution_count": 2,
      "outputs": [
        {
          "output_type": "stream",
          "text": [
            "Downloading data from https://www.cs.toronto.edu/~kriz/cifar-10-python.tar.gz\n",
            "170500096/170498071 [==============================] - 2s 0us/step\n"
          ],
          "name": "stdout"
        }
      ]
    },
    {
      "cell_type": "code",
      "metadata": {
        "id": "LKGp7-5ZaUQ5",
        "colab_type": "code",
        "colab": {}
      },
      "source": [
        "## 資料前處理\n",
        "def preproc_x(x, flatten=True):\n",
        "    x = x / 255.\n",
        "    if flatten:\n",
        "        x = x.reshape((len(x), -1))\n",
        "    return x\n",
        "\n",
        "def preproc_y(y, num_classes=10):\n",
        "    if y.shape[-1] == 1:\n",
        "        y = keras.utils.to_categorical(y, num_classes)\n",
        "    return y    "
      ],
      "execution_count": 0,
      "outputs": []
    },
    {
      "cell_type": "code",
      "metadata": {
        "id": "nS9wltYOaURE",
        "colab_type": "code",
        "colab": {}
      },
      "source": [
        "x_train, y_train = train\n",
        "x_test, y_test = test\n",
        "\n",
        "# Preproc the inputs\n",
        "x_train = preproc_x(x_train)\n",
        "x_test = preproc_x(x_test)\n",
        "\n",
        "# Preprc the outputs\n",
        "y_train = preproc_y(y_train)\n",
        "y_test = preproc_y(y_test)"
      ],
      "execution_count": 0,
      "outputs": []
    },
    {
      "cell_type": "code",
      "metadata": {
        "id": "yi-WknovaURI",
        "colab_type": "code",
        "colab": {}
      },
      "source": [
        "from keras.layers import BatchNormalization\n",
        "\n",
        "\"\"\"\n",
        "建立神經網路，並加入 BN layer\n",
        "\"\"\"\n",
        "\n",
        "def build_mlp(input_shape, output_units=10, num_neurons=[512, 256, 128]):\n",
        "    input_layer = keras.layers.Input(input_shape)\n",
        "    \n",
        "    for i, n_units in enumerate(num_neurons):\n",
        "        if i == 0:\n",
        "            x = keras.layers.Dense(units=n_units, \n",
        "                                   activation=\"relu\", \n",
        "                                   name=\"hidden_layer\"+str(i+1))(input_layer)\n",
        "            x = BatchNormalization()(x)\n",
        "        else:\n",
        "            x = keras.layers.Dense(units=n_units, \n",
        "                                   activation=\"relu\", \n",
        "                                   name=\"hidden_layer\"+str(i+1))(x)\n",
        "            x = BatchNormalization()(x)\n",
        "    \n",
        "    out = keras.layers.Dense(units=output_units, activation=\"softmax\", name=\"output\")(x)\n",
        "    \n",
        "    model = keras.models.Model(inputs=[input_layer], outputs=[out])\n",
        "    return model"
      ],
      "execution_count": 0,
      "outputs": []
    },
    {
      "cell_type": "code",
      "metadata": {
        "id": "8OdytXsyaURN",
        "colab_type": "code",
        "colab": {}
      },
      "source": [
        "\"\"\"Code Here\n",
        "設定超參數\n",
        "\"\"\"\n",
        "LEARNING_RATE = 1e-3\n",
        "EPOCHS = 50\n",
        "BATCH_SIZE = 1024\n",
        "MOMENTUM = 0.95"
      ],
      "execution_count": 0,
      "outputs": []
    },
    {
      "cell_type": "code",
      "metadata": {
        "scrolled": true,
        "id": "r0ZRmhb6aURa",
        "colab_type": "code",
        "colab": {
          "base_uri": "https://localhost:8080/",
          "height": 1000
        },
        "outputId": "faad6ded-229b-48fc-971a-3d46b2fddacb"
      },
      "source": [
        "results = {}\n",
        "\"\"\"Code Here\n",
        "撰寫你的訓練流程並將結果用 dictionary 紀錄\n",
        "\"\"\"\n",
        "model = build_mlp(input_shape=x_train.shape[1:])\n",
        "model.summary()\n",
        "optimizer = keras.optimizers.SGD(lr=LEARNING_RATE, nesterov=True, momentum=MOMENTUM)\n",
        "model.compile(loss=\"categorical_crossentropy\", metrics=[\"accuracy\"], optimizer=optimizer)\n",
        "\n",
        "model.fit(x_train, y_train, \n",
        "          epochs=EPOCHS, \n",
        "          batch_size=BATCH_SIZE, \n",
        "          validation_data=(x_test, y_test), \n",
        "          shuffle=True)\n",
        "\n",
        "# Collect results\n",
        "train_loss = model.history.history[\"loss\"]\n",
        "valid_loss = model.history.history[\"val_loss\"]\n",
        "train_acc = model.history.history[\"acc\"]\n",
        "valid_acc = model.history.history[\"val_acc\"]"
      ],
      "execution_count": 8,
      "outputs": [
        {
          "output_type": "stream",
          "text": [
            "Model: \"model_2\"\n",
            "_________________________________________________________________\n",
            "Layer (type)                 Output Shape              Param #   \n",
            "=================================================================\n",
            "input_2 (InputLayer)         (None, 3072)              0         \n",
            "_________________________________________________________________\n",
            "hidden_layer1 (Dense)        (None, 512)               1573376   \n",
            "_________________________________________________________________\n",
            "batch_normalization_4 (Batch (None, 512)               2048      \n",
            "_________________________________________________________________\n",
            "hidden_layer2 (Dense)        (None, 256)               131328    \n",
            "_________________________________________________________________\n",
            "batch_normalization_5 (Batch (None, 256)               1024      \n",
            "_________________________________________________________________\n",
            "hidden_layer3 (Dense)        (None, 128)               32896     \n",
            "_________________________________________________________________\n",
            "batch_normalization_6 (Batch (None, 128)               512       \n",
            "_________________________________________________________________\n",
            "output (Dense)               (None, 10)                1290      \n",
            "=================================================================\n",
            "Total params: 1,742,474\n",
            "Trainable params: 1,740,682\n",
            "Non-trainable params: 1,792\n",
            "_________________________________________________________________\n",
            "Train on 50000 samples, validate on 10000 samples\n",
            "Epoch 1/50\n",
            "50000/50000 [==============================] - 9s 189us/step - loss: 2.2514 - acc: 0.2605 - val_loss: 2.1537 - val_acc: 0.3073\n",
            "Epoch 2/50\n",
            "50000/50000 [==============================] - 9s 175us/step - loss: 1.7473 - acc: 0.3902 - val_loss: 1.8297 - val_acc: 0.3751\n",
            "Epoch 3/50\n",
            "50000/50000 [==============================] - 9s 176us/step - loss: 1.6216 - acc: 0.4313 - val_loss: 1.7053 - val_acc: 0.4119\n",
            "Epoch 4/50\n",
            "50000/50000 [==============================] - 9s 176us/step - loss: 1.5490 - acc: 0.4577 - val_loss: 1.6534 - val_acc: 0.4215\n",
            "Epoch 5/50\n",
            "50000/50000 [==============================] - 9s 176us/step - loss: 1.4937 - acc: 0.4800 - val_loss: 1.5999 - val_acc: 0.4386\n",
            "Epoch 6/50\n",
            "50000/50000 [==============================] - 9s 176us/step - loss: 1.4501 - acc: 0.4944 - val_loss: 1.5710 - val_acc: 0.4435\n",
            "Epoch 7/50\n",
            "50000/50000 [==============================] - 9s 177us/step - loss: 1.4106 - acc: 0.5086 - val_loss: 1.5527 - val_acc: 0.4485\n",
            "Epoch 8/50\n",
            "50000/50000 [==============================] - 9s 178us/step - loss: 1.3755 - acc: 0.5189 - val_loss: 1.5373 - val_acc: 0.4552\n",
            "Epoch 9/50\n",
            "50000/50000 [==============================] - 9s 177us/step - loss: 1.3438 - acc: 0.5318 - val_loss: 1.5412 - val_acc: 0.4590\n",
            "Epoch 10/50\n",
            "50000/50000 [==============================] - 9s 177us/step - loss: 1.3151 - acc: 0.5429 - val_loss: 1.5111 - val_acc: 0.4606\n",
            "Epoch 11/50\n",
            "50000/50000 [==============================] - 9s 177us/step - loss: 1.2858 - acc: 0.5533 - val_loss: 1.4995 - val_acc: 0.4685\n",
            "Epoch 12/50\n",
            "50000/50000 [==============================] - 9s 177us/step - loss: 1.2577 - acc: 0.5634 - val_loss: 1.4894 - val_acc: 0.4748\n",
            "Epoch 13/50\n",
            "50000/50000 [==============================] - 9s 177us/step - loss: 1.2335 - acc: 0.5732 - val_loss: 1.4882 - val_acc: 0.4701\n",
            "Epoch 14/50\n",
            "50000/50000 [==============================] - 9s 184us/step - loss: 1.2102 - acc: 0.5818 - val_loss: 1.4813 - val_acc: 0.4713\n",
            "Epoch 15/50\n",
            "50000/50000 [==============================] - 9s 177us/step - loss: 1.1862 - acc: 0.5909 - val_loss: 1.4742 - val_acc: 0.4764\n",
            "Epoch 16/50\n",
            "50000/50000 [==============================] - 9s 177us/step - loss: 1.1640 - acc: 0.5988 - val_loss: 1.4824 - val_acc: 0.4723\n",
            "Epoch 17/50\n",
            "50000/50000 [==============================] - 9s 176us/step - loss: 1.1398 - acc: 0.6073 - val_loss: 1.4617 - val_acc: 0.4798\n",
            "Epoch 18/50\n",
            "50000/50000 [==============================] - 9s 176us/step - loss: 1.1185 - acc: 0.6170 - val_loss: 1.4683 - val_acc: 0.4762\n",
            "Epoch 19/50\n",
            "50000/50000 [==============================] - 9s 177us/step - loss: 1.0968 - acc: 0.6245 - val_loss: 1.4670 - val_acc: 0.4784\n",
            "Epoch 20/50\n",
            "50000/50000 [==============================] - 9s 176us/step - loss: 1.0764 - acc: 0.6326 - val_loss: 1.4587 - val_acc: 0.4786\n",
            "Epoch 21/50\n",
            "50000/50000 [==============================] - 9s 178us/step - loss: 1.0558 - acc: 0.6387 - val_loss: 1.4579 - val_acc: 0.4869\n",
            "Epoch 22/50\n",
            "50000/50000 [==============================] - 9s 177us/step - loss: 1.0339 - acc: 0.6474 - val_loss: 1.4626 - val_acc: 0.4848\n",
            "Epoch 23/50\n",
            "50000/50000 [==============================] - 9s 175us/step - loss: 1.0136 - acc: 0.6561 - val_loss: 1.4586 - val_acc: 0.4861\n",
            "Epoch 24/50\n",
            "50000/50000 [==============================] - 9s 176us/step - loss: 0.9937 - acc: 0.6654 - val_loss: 1.4596 - val_acc: 0.4908\n",
            "Epoch 25/50\n",
            "50000/50000 [==============================] - 9s 175us/step - loss: 0.9733 - acc: 0.6711 - val_loss: 1.4638 - val_acc: 0.4894\n",
            "Epoch 26/50\n",
            "50000/50000 [==============================] - 9s 177us/step - loss: 0.9539 - acc: 0.6813 - val_loss: 1.4614 - val_acc: 0.4894\n",
            "Epoch 27/50\n",
            "50000/50000 [==============================] - 9s 177us/step - loss: 0.9342 - acc: 0.6877 - val_loss: 1.4614 - val_acc: 0.4945\n",
            "Epoch 28/50\n",
            "50000/50000 [==============================] - 9s 177us/step - loss: 0.9131 - acc: 0.6947 - val_loss: 1.4778 - val_acc: 0.4900\n",
            "Epoch 29/50\n",
            "50000/50000 [==============================] - 9s 174us/step - loss: 0.8943 - acc: 0.7024 - val_loss: 1.4654 - val_acc: 0.4971\n",
            "Epoch 30/50\n",
            "50000/50000 [==============================] - 9s 176us/step - loss: 0.8739 - acc: 0.7108 - val_loss: 1.4687 - val_acc: 0.4952\n",
            "Epoch 31/50\n",
            "50000/50000 [==============================] - 9s 175us/step - loss: 0.8573 - acc: 0.7170 - val_loss: 1.4862 - val_acc: 0.4940\n",
            "Epoch 32/50\n",
            "50000/50000 [==============================] - 9s 175us/step - loss: 0.8368 - acc: 0.7263 - val_loss: 1.4941 - val_acc: 0.4933\n",
            "Epoch 33/50\n",
            "50000/50000 [==============================] - 9s 176us/step - loss: 0.8193 - acc: 0.7332 - val_loss: 1.5002 - val_acc: 0.4939\n",
            "Epoch 34/50\n",
            "50000/50000 [==============================] - 9s 177us/step - loss: 0.7994 - acc: 0.7404 - val_loss: 1.4986 - val_acc: 0.4967\n",
            "Epoch 35/50\n",
            "50000/50000 [==============================] - 9s 177us/step - loss: 0.7802 - acc: 0.7472 - val_loss: 1.5151 - val_acc: 0.4924\n",
            "Epoch 36/50\n",
            "50000/50000 [==============================] - 9s 175us/step - loss: 0.7618 - acc: 0.7550 - val_loss: 1.5188 - val_acc: 0.4963\n",
            "Epoch 37/50\n",
            "50000/50000 [==============================] - 9s 176us/step - loss: 0.7437 - acc: 0.7627 - val_loss: 1.5157 - val_acc: 0.4963\n",
            "Epoch 38/50\n",
            "50000/50000 [==============================] - 9s 177us/step - loss: 0.7262 - acc: 0.7698 - val_loss: 1.5322 - val_acc: 0.4937\n",
            "Epoch 39/50\n",
            "50000/50000 [==============================] - 9s 175us/step - loss: 0.7079 - acc: 0.7765 - val_loss: 1.5519 - val_acc: 0.4949\n",
            "Epoch 40/50\n",
            "50000/50000 [==============================] - 9s 177us/step - loss: 0.6904 - acc: 0.7840 - val_loss: 1.5531 - val_acc: 0.4992\n",
            "Epoch 41/50\n",
            "50000/50000 [==============================] - 9s 179us/step - loss: 0.6722 - acc: 0.7910 - val_loss: 1.5568 - val_acc: 0.4911\n",
            "Epoch 42/50\n",
            "50000/50000 [==============================] - 9s 177us/step - loss: 0.6523 - acc: 0.7990 - val_loss: 1.5901 - val_acc: 0.4860\n",
            "Epoch 43/50\n",
            "50000/50000 [==============================] - 9s 176us/step - loss: 0.6361 - acc: 0.8044 - val_loss: 1.5749 - val_acc: 0.4921\n",
            "Epoch 44/50\n",
            "50000/50000 [==============================] - 9s 175us/step - loss: 0.6190 - acc: 0.8108 - val_loss: 1.5926 - val_acc: 0.4898\n",
            "Epoch 45/50\n",
            "50000/50000 [==============================] - 9s 176us/step - loss: 0.6013 - acc: 0.8186 - val_loss: 1.5889 - val_acc: 0.4943\n",
            "Epoch 46/50\n",
            "50000/50000 [==============================] - 9s 177us/step - loss: 0.5838 - acc: 0.8260 - val_loss: 1.6215 - val_acc: 0.4860\n",
            "Epoch 47/50\n",
            "50000/50000 [==============================] - 9s 176us/step - loss: 0.5677 - acc: 0.8315 - val_loss: 1.6217 - val_acc: 0.4929\n",
            "Epoch 48/50\n",
            "50000/50000 [==============================] - 9s 179us/step - loss: 0.5524 - acc: 0.8381 - val_loss: 1.6248 - val_acc: 0.4967\n",
            "Epoch 49/50\n",
            "50000/50000 [==============================] - 9s 179us/step - loss: 0.5337 - acc: 0.8464 - val_loss: 1.6446 - val_acc: 0.4903\n",
            "Epoch 50/50\n",
            "50000/50000 [==============================] - 9s 176us/step - loss: 0.5190 - acc: 0.8507 - val_loss: 1.6658 - val_acc: 0.4895\n"
          ],
          "name": "stdout"
        }
      ]
    },
    {
      "cell_type": "code",
      "metadata": {
        "id": "4_D1OCw8aURk",
        "colab_type": "code",
        "colab": {
          "base_uri": "https://localhost:8080/",
          "height": 545
        },
        "outputId": "6c27d07e-67cc-4e22-a710-853db7b74700"
      },
      "source": [
        "import matplotlib.pyplot as plt\n",
        "%matplotlib inline\n",
        "\n",
        "plt.plot(range(len(train_loss)), train_loss, label=\"train loss\")\n",
        "plt.plot(range(len(valid_loss)), valid_loss, label=\"valid loss\")\n",
        "plt.legend()\n",
        "plt.title(\"Loss\")\n",
        "plt.show()\n",
        "\n",
        "plt.plot(range(len(train_acc)), train_acc, label=\"train accuracy\")\n",
        "plt.plot(range(len(valid_acc)), valid_acc, label=\"valid accuracy\")\n",
        "plt.legend()\n",
        "plt.title(\"Accuracy\")\n",
        "plt.show()"
      ],
      "execution_count": 9,
      "outputs": [
        {
          "output_type": "display_data",
          "data": {
            "image/png": "[encoded data removed]",
            "text/plain": [
              "<Figure size 432x288 with 1 Axes>"
            ]
          },
          "metadata": {
            "tags": []
          }
        },
        {
          "output_type": "display_data",
          "data": {
            "image/png": "[encoded data removed]",
            "text/plain": [
              "<Figure size 432x288 with 1 Axes>"
            ]
          },
          "metadata": {
            "tags": []
          }
        }
      ]
    }
  ]
}